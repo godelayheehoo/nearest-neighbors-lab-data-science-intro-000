{
 "cells": [
  {
   "cell_type": "markdown",
   "metadata": {},
   "source": [
    "# Nearest Neighbors Lab"
   ]
  },
  {
   "cell_type": "markdown",
   "metadata": {},
   "source": [
    "### Introduction\n",
    "\n",
    "In this lab, you apply nearest neighbors technique to help a taxi company predict the length of their rides.  Imagine that we are hired to consult for LiftOff, a limo and taxi service that is just opening up in NYC.  Liftoff wants it's taxi drivers to target longer rides, as the longer the ride the more money it makes.  LiftOff has the following theory:\n",
    "\n",
    "* the pickup location of a taxi ride can help predict the length of the ride.  \n",
    "\n",
    "\n",
    "\n",
    "LiftOff asks us to do some analysis to write a function that will allow it to **predict the length of a taxi ride for any given location **.\n",
    "\n",
    "Our technique will be the following:\n",
    "  * **Collect** Obtain the data containing all of the taxi information, and only select the attributes of taxi trips that we need \n",
    "  * ** Explore ** Examine the attributes of our data, and plot some of our data on a map\n",
    "  * ** Train ** Write our nearest neighbors formula, and change the number of nearby trips to predict the length of a new trip\n",
    "  * ** Predict ** Use our function to predict trip lengths of new locations"
   ]
  },
  {
   "cell_type": "markdown",
   "metadata": {},
   "source": [
    "### Collect and Explore the data"
   ]
  },
  {
   "cell_type": "markdown",
   "metadata": {},
   "source": [
    "#### Collect the Data"
   ]
  },
  {
   "cell_type": "markdown",
   "metadata": {},
   "source": [
    "Luckily for us, [NYC Open Data](https://opendata.cityofnewyork.us/) collects information about NYC taxi trips and provides this data on [its website](https://data.cityofnewyork.us/Transportation/2014-Yellow-Taxi-Trip-Data/gn7m-em8n)."
   ]
  },
  {
   "cell_type": "markdown",
   "metadata": {},
   "source": [
    "![](./nyc-taxi.png)"
   ]
  },
  {
   "cell_type": "markdown",
   "metadata": {},
   "source": [
    "For your reading pleasure, the data has already been downloaded into the [trips.json](https://github.com/learn-co-curriculum/nearest-neighbors-lab/blob/master/trips.json) file in this lab which you can find here.  We'll use Python's `json` library to take the data from the `trips.json` file and store it as a variable in our notebook."
   ]
  },
  {
   "cell_type": "code",
   "execution_count": 60,
   "metadata": {},
   "outputs": [],
   "source": [
    "import json\n",
    "# First, read the file\n",
    "trips_file = open('trips.json')\n",
    "# Then, convert contents to list of dictionaries \n",
    "trips = json.load(trips_file)"
   ]
  },
  {
   "cell_type": "markdown",
   "metadata": {},
   "source": [
    "> Press shift + enter"
   ]
  },
  {
   "cell_type": "markdown",
   "metadata": {},
   "source": [
    "#### Explore the data"
   ]
  },
  {
   "cell_type": "markdown",
   "metadata": {},
   "source": [
    "The next step is to explore the data.  First, let's see how many trips we have."
   ]
  },
  {
   "cell_type": "code",
   "execution_count": 61,
   "metadata": {},
   "outputs": [
    {
     "data": {
      "text/plain": [
       "1000"
      ]
     },
     "execution_count": 61,
     "metadata": {},
     "output_type": "execute_result"
    }
   ],
   "source": [
    "len(trips)"
   ]
  },
  {
   "cell_type": "markdown",
   "metadata": {},
   "source": [
    "Not bad at all.  Now let's see what each individual trip looks like.  Each trip is a dictionary, so we can see the attributes of each trip with the `keys` function."
   ]
  },
  {
   "cell_type": "code",
   "execution_count": 62,
   "metadata": {
    "scrolled": true
   },
   "outputs": [
    {
     "data": {
      "text/plain": [
       "'18.379999999999999'"
      ]
     },
     "execution_count": 62,
     "metadata": {},
     "output_type": "execute_result"
    }
   ],
   "source": [
    "trips[0].keys()\n",
    "trips[0]['trip_distance']"
   ]
  },
  {
   "cell_type": "markdown",
   "metadata": {},
   "source": [
    "#### Limit our data"
   ]
  },
  {
   "cell_type": "markdown",
   "metadata": {},
   "source": [
    "Ok, now that we have explored some of our data, let's begin to think through what data is relevant for our task."
   ]
  },
  {
   "cell_type": "markdown",
   "metadata": {
    "collapsed": true
   },
   "source": [
    "Remember that our task is to **use the trip location to predict the length of a trip**.  So let's select the `pickup_latitude`, `pickup_longitude`, and `trip_distance` from each trip.  That will give us the trip location and related `trip_distance` for each trip.  Then based on these **actual** trip distances we can use nearest neighbors to predict an **expected** trip distance for a trip, provided an **actual** location."
   ]
  },
  {
   "cell_type": "markdown",
   "metadata": {},
   "source": [
    "** Add in about trip distance ** "
   ]
  },
  {
   "cell_type": "markdown",
   "metadata": {},
   "source": [
    "Write a function called `parse_trips(trips)` that returns a list of the trips with only the following attributes: \n",
    "* `trip_distance`\n",
    "* `pickup_latitude`\n",
    "* `pickup_longitude`"
   ]
  },
  {
   "cell_type": "code",
   "execution_count": 63,
   "metadata": {},
   "outputs": [],
   "source": [
    "def parse_trips(trips):\n",
    "    return list(map(lambda trip: {'trip_distance':trip['trip_distance'],'pickup_latitude':trip['pickup_latitude'],'pickup_longitude':trip['pickup_longitude']},trips))"
   ]
  },
  {
   "cell_type": "code",
   "execution_count": 64,
   "metadata": {},
   "outputs": [
    {
     "data": {
      "text/plain": [
       "{'trip_distance': '18.379999999999999',\n",
       " 'pickup_latitude': '40.64499',\n",
       " 'pickup_longitude': '-73.781149999999997'}"
      ]
     },
     "execution_count": 64,
     "metadata": {},
     "output_type": "execute_result"
    }
   ],
   "source": [
    "parsed_trips = parse_trips(trips)\n",
    "\n",
    "parsed_trips and parsed_trips[0]\n",
    "\n",
    "# {'pickup_latitude': '40.64499',\n",
    "#  'pickup_longitude': '-73.78115',\n",
    "#  'trip_distance': '18.38'}"
   ]
  },
  {
   "cell_type": "markdown",
   "metadata": {},
   "source": [
    "Now, there's just one change to make.  If you look at one of the trips, all of the values are strings.  Let's change them to be floats."
   ]
  },
  {
   "cell_type": "code",
   "execution_count": 65,
   "metadata": {},
   "outputs": [],
   "source": [
    "def float_values(trips):\n",
    "    \n",
    "    return list(map(lambda trip: dict((key,float(val)) for (key,val) in trip.items()), trips))"
   ]
  },
  {
   "cell_type": "code",
   "execution_count": 66,
   "metadata": {},
   "outputs": [],
   "source": [
    "cleaned_trips = float_values(parsed_trips)"
   ]
  },
  {
   "cell_type": "code",
   "execution_count": 67,
   "metadata": {},
   "outputs": [
    {
     "data": {
      "text/plain": [
       "{'trip_distance': 18.38,\n",
       " 'pickup_latitude': 40.64499,\n",
       " 'pickup_longitude': -73.78115}"
      ]
     },
     "execution_count": 67,
     "metadata": {},
     "output_type": "execute_result"
    }
   ],
   "source": [
    "cleaned_trips[0]\n",
    "\n",
    "# {'pickup_latitude': 40.64499,\n",
    "#  'pickup_longitude': -73.78115,\n",
    "#  'trip_distance': 18.38}"
   ]
  },
  {
   "cell_type": "markdown",
   "metadata": {},
   "source": [
    "### Exploring the Data"
   ]
  },
  {
   "cell_type": "markdown",
   "metadata": {},
   "source": [
    "Now that we have paired down our data, let's get a sense of our trip data.  We can use the `folium` Python library to plot a map of Manhattan, and our data.  First we must import `folium`, and then use the `Map` function to pass through a `location`, and `zoom_start`.  If a map isn't showing up below, copy and paste the command `pip install -r requirements.txt` into your terminal to install `folium` then try again."
   ]
  },
  {
   "cell_type": "code",
   "execution_count": 12,
   "metadata": {},
   "outputs": [],
   "source": [
    "import folium\n",
    "manhattan_map = folium.Map(location=[40.7589, -73.9851], zoom_start=11)"
   ]
  },
  {
   "cell_type": "code",
   "execution_count": 13,
   "metadata": {
    "scrolled": true
   },
   "outputs": [
    {
     "data": {
      "text/html": [
       "<div style=\"width:100%;\"><div style=\"position:relative;width:100%;height:0;padding-bottom:60%;\"><iframe src=\"data:text/html;charset=utf-8;base64,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\" style=\"position:absolute;width:100%;height:100%;left:0;top:0;border:none !important;\" allowfullscreen webkitallowfullscreen mozallowfullscreen></iframe></div></div>"
      ],
      "text/plain": [
       "<folium.folium.Map at 0x7ff8a0c37b70>"
      ]
     },
     "execution_count": 13,
     "metadata": {},
     "output_type": "execute_result"
    }
   ],
   "source": [
    "manhattan_map"
   ]
  },
  {
   "cell_type": "markdown",
   "metadata": {},
   "source": [
    "Ok, now let's see how we could add a dot to mark a specific location.  We'll start with Times Square."
   ]
  },
  {
   "cell_type": "code",
   "execution_count": 14,
   "metadata": {},
   "outputs": [
    {
     "data": {
      "text/plain": [
       "<folium.vector_layers.CircleMarker at 0x7ff878558630>"
      ]
     },
     "execution_count": 14,
     "metadata": {},
     "output_type": "execute_result"
    }
   ],
   "source": [
    "marker = folium.CircleMarker(location = [40.7589, -73.9851], radius=10)\n",
    "marker.add_to(manhattan_map)"
   ]
  },
  {
   "cell_type": "markdown",
   "metadata": {},
   "source": [
    "Above, we first create a marker.  Then we add that circle marker to the `manhattan_map` we created earlier. "
   ]
  },
  {
   "cell_type": "code",
   "execution_count": 15,
   "metadata": {
    "scrolled": false
   },
   "outputs": [
    {
     "data": {
      "text/html": [
       "<div style=\"width:100%;\"><div style=\"position:relative;width:100%;height:0;padding-bottom:60%;\"><iframe src=\"data:text/html;charset=utf-8;base64,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\" style=\"position:absolute;width:100%;height:100%;left:0;top:0;border:none !important;\" allowfullscreen webkitallowfullscreen mozallowfullscreen></iframe></div></div>"
      ],
      "text/plain": [
       "<folium.folium.Map at 0x7ff8a0c37b70>"
      ]
     },
     "execution_count": 15,
     "metadata": {},
     "output_type": "execute_result"
    }
   ],
   "source": [
    "manhattan_map"
   ]
  },
  {
   "cell_type": "markdown",
   "metadata": {},
   "source": [
    "Do you see that blue dot near Time's Square?  That is our marker.  \n",
    "\n",
    "So now that we can plot one marker on a map, we should have a sense of how we can plot many markers on a map to display our taxi ride data.  We simply plot a map, and then we add a marker for each location of a taxi trip.\n",
    "\n",
    "Now let's write some functions to allow us to plot maps and add markers a little more easily.  "
   ]
  },
  {
   "cell_type": "markdown",
   "metadata": {},
   "source": [
    "#### Writing some map plotting functions"
   ]
  },
  {
   "cell_type": "markdown",
   "metadata": {},
   "source": [
    "As a first step towards this, note that the functions to create both a marker and map each take in a location as two element list, representing the latitude and longitude values.  Take another look:\n",
    "\n",
    "```python\n",
    "marker = folium.CircleMarker(location = [40.7589, -73.9851])\n",
    "manhattan_map = folium.Map(location=[40.7589, -73.9851])\n",
    "```\n",
    "\n",
    "So let's write a function called to create this two element list from a trip.  Write a function called `location` that  takes in a trip as an argument and returns a list where the first element is the latitude and the second is the longitude.  Remember that a location looks like the following:"
   ]
  },
  {
   "cell_type": "code",
   "execution_count": 68,
   "metadata": {},
   "outputs": [
    {
     "data": {
      "text/plain": [
       "{'pickup_latitude': 40.64499,\n",
       " 'pickup_longitude': -73.78115,\n",
       " 'trip_distance': 18.38}"
      ]
     },
     "execution_count": 68,
     "metadata": {},
     "output_type": "execute_result"
    }
   ],
   "source": [
    "first_trip = {'pickup_latitude': 40.64499, 'pickup_longitude': -73.78115,  'trip_distance': 18.38}\n",
    "first_trip"
   ]
  },
  {
   "cell_type": "code",
   "execution_count": 69,
   "metadata": {},
   "outputs": [],
   "source": [
    "def location(trip):\n",
    "    return [trip['pickup_latitude'],trip['pickup_longitude']]"
   ]
  },
  {
   "cell_type": "code",
   "execution_count": 70,
   "metadata": {},
   "outputs": [
    {
     "data": {
      "text/plain": [
       "[40.64499, -73.78115]"
      ]
     },
     "execution_count": 70,
     "metadata": {},
     "output_type": "execute_result"
    }
   ],
   "source": [
    "first_location = location(first_trip) # [40.64499, -73.78115]\n",
    "first_location # [40.64499, -73.78115]"
   ]
  },
  {
   "cell_type": "markdown",
   "metadata": {},
   "source": [
    "Ok, now that we can turn a trip into a location, let's turn a location into a marker.  Write a function called `to_marker` that takes in a location (in the form of a list) as an argument, and returns a folium `circleMarker` for that location.  The radius of the marker should always equal 6."
   ]
  },
  {
   "cell_type": "code",
   "execution_count": 71,
   "metadata": {},
   "outputs": [],
   "source": [
    "def to_marker(location):\n",
    "    return folium.CircleMarker(location, radius=6)"
   ]
  },
  {
   "cell_type": "code",
   "execution_count": 73,
   "metadata": {},
   "outputs": [
    {
     "data": {
      "text/plain": [
       "6"
      ]
     },
     "execution_count": 73,
     "metadata": {},
     "output_type": "execute_result"
    }
   ],
   "source": [
    "import json\n",
    "times_square_marker = to_marker([40.7589, -73.9851])\n",
    "\n",
    "times_square_marker and times_square_marker.location # [40.7589, -73.9851]\n",
    "times_square_marker and json.loads(str(times_square_marker.options['radius'])) # 6"
   ]
  },
  {
   "cell_type": "markdown",
   "metadata": {},
   "source": [
    "Ok, now that we know how to produce a single marker, let's write a function to produce lots.  We can write a function called `markers_from_trips` that takes in a list of trips, and returns a marker object for each trip.  "
   ]
  },
  {
   "cell_type": "code",
   "execution_count": 76,
   "metadata": {},
   "outputs": [],
   "source": [
    "def markers_from_trips(trips):\n",
    "    locations = list(map(lambda trip: location(trip), trips))\n",
    "    return list(map(lambda location: to_marker(location),locations))"
   ]
  },
  {
   "cell_type": "code",
   "execution_count": 77,
   "metadata": {},
   "outputs": [],
   "source": [
    "trip_markers = markers_from_trips(cleaned_trips)"
   ]
  },
  {
   "cell_type": "code",
   "execution_count": 78,
   "metadata": {},
   "outputs": [
    {
     "data": {
      "text/plain": [
       "[{'trip_distance': 18.38,\n",
       "  'pickup_latitude': 40.64499,\n",
       "  'pickup_longitude': -73.78115},\n",
       " {'trip_distance': 1.3,\n",
       "  'pickup_latitude': 40.766931,\n",
       "  'pickup_longitude': -73.982098},\n",
       " {'trip_distance': 4.5,\n",
       "  'pickup_latitude': 40.77773,\n",
       "  'pickup_longitude': -73.951902},\n",
       " {'trip_distance': 2.4,\n",
       "  'pickup_latitude': 40.795678,\n",
       "  'pickup_longitude': -73.971049}]"
      ]
     },
     "execution_count": 78,
     "metadata": {},
     "output_type": "execute_result"
    }
   ],
   "source": [
    "cleaned_trips[0:4]"
   ]
  },
  {
   "cell_type": "code",
   "execution_count": 79,
   "metadata": {},
   "outputs": [
    {
     "data": {
      "text/plain": [
       "[[40.64499, -73.78115],\n",
       " [40.766931, -73.982098],\n",
       " [40.77773, -73.951902],\n",
       " [40.795678, -73.971049]]"
      ]
     },
     "execution_count": 79,
     "metadata": {},
     "output_type": "execute_result"
    }
   ],
   "source": [
    "trip_markers and len(trip_markers) # 1000\n",
    "\n",
    "list(map(lambda marker: marker.location, trip_markers[0:4]))\n",
    "# [[40.64499, -73.78115],\n",
    "#  [40.766931, -73.982098],\n",
    "#  [40.77773, -73.951902],\n",
    "#  [40.795678, -73.971049]]"
   ]
  },
  {
   "cell_type": "markdown",
   "metadata": {},
   "source": [
    "Ok, now that we have a function that creates locations, and a function that creates markers, it is time to write a function to plot a map. \n",
    "\n",
    "Write a function called `map_from` that, provided the first argument of a list location and second argument an integer representing the `zoom_start`, returns a `folium` map the corresponding location and `zoom_start` attributes.\n",
    "\n",
    "> Hint: The following is how to write a map with folium:\n",
    "> ```python \n",
    "    folium.Map(location=location, zoom_start=zoom_amount)\n",
    "> ```"
   ]
  },
  {
   "cell_type": "code",
   "execution_count": 80,
   "metadata": {},
   "outputs": [],
   "source": [
    "def map_from(location,zoom_start):\n",
    "    return folium.Map(location=location, zoom_start=zoom_start)"
   ]
  },
  {
   "cell_type": "code",
   "execution_count": 82,
   "metadata": {},
   "outputs": [
    {
     "data": {
      "text/plain": [
       "[40.7589, -73.9851]"
      ]
     },
     "execution_count": 82,
     "metadata": {},
     "output_type": "execute_result"
    }
   ],
   "source": [
    "times_square_map = map_from([40.7589, -73.9851], 15)\n",
    "times_square_map and times_square_map.location # [40.7589, -73.9851]\n"
   ]
  },
  {
   "cell_type": "code",
   "execution_count": 83,
   "metadata": {
    "scrolled": true
   },
   "outputs": [
    {
     "data": {
      "text/html": [
       "<div style=\"width:100%;\"><div style=\"position:relative;width:100%;height:0;padding-bottom:60%;\"><iframe src=\"data:text/html;charset=utf-8;base64,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\" style=\"position:absolute;width:100%;height:100%;left:0;top:0;border:none !important;\" allowfullscreen webkitallowfullscreen mozallowfullscreen></iframe></div></div>"
      ],
      "text/plain": [
       "<folium.folium.Map at 0x7ff8a0bc8278>"
      ]
     },
     "execution_count": 83,
     "metadata": {},
     "output_type": "execute_result"
    }
   ],
   "source": [
    "times_square_marker and times_square_marker.add_to(times_square_map)\n",
    "times_square_map"
   ]
  },
  {
   "cell_type": "markdown",
   "metadata": {},
   "source": [
    "Now that we have a marker and a map, now let's write a function that adds a lot of markers to a map.  This function should add each marker in the list to the map object then return the updated map object."
   ]
  },
  {
   "cell_type": "code",
   "execution_count": 84,
   "metadata": {},
   "outputs": [],
   "source": [
    "manhattan_map = map_from([40.7589, -73.9851], 13)"
   ]
  },
  {
   "cell_type": "code",
   "execution_count": 85,
   "metadata": {},
   "outputs": [
    {
     "name": "stdout",
     "output_type": "stream",
     "text": [
      "[<folium.vector_layers.CircleMarker object at 0x7ff8a1602dd8>, <folium.vector_layers.CircleMarker object at 0x7ff8a1602da0>, <folium.vector_layers.CircleMarker object at 0x7ff8a1602c18>, <folium.vector_layers.CircleMarker object at 0x7ff8a1602e10>, <folium.vector_layers.CircleMarker object at 0x7ff8a0d8d4e0>, <folium.vector_layers.CircleMarker object at 0x7ff8a0d8d2b0>, <folium.vector_layers.CircleMarker object at 0x7ff8a0d8d080>, <folium.vector_layers.CircleMarker object at 0x7ff8a0d8d0f0>, <folium.vector_layers.CircleMarker object at 0x7ff8a0d8d048>, <folium.vector_layers.CircleMarker object at 0x7ff8a0d8d550>, <folium.vector_layers.CircleMarker object at 0x7ff8a0d8da20>, <folium.vector_layers.CircleMarker object at 0x7ff8a0d8d160>, <folium.vector_layers.CircleMarker object at 0x7ff8a0d8d128>, <folium.vector_layers.CircleMarker object at 0x7ff8a0d8d5c0>, <folium.vector_layers.CircleMarker object at 0x7ff8a0d8d898>, <folium.vector_layers.CircleMarker object at 0x7ff8a0d8d2e8>, <folium.vector_layers.CircleMarker object at 0x7ff8a0d8d358>, <folium.vector_layers.CircleMarker object at 0x7ff8a0d8d470>, <folium.vector_layers.CircleMarker object at 0x7ff8a0d8d400>, <folium.vector_layers.CircleMarker object at 0x7ff8a0d8d208>, <folium.vector_layers.CircleMarker object at 0x7ff8a0d8d3c8>, <folium.vector_layers.CircleMarker object at 0x7ff8a0d8d828>, <folium.vector_layers.CircleMarker object at 0x7ff8a0d8d9e8>, <folium.vector_layers.CircleMarker object at 0x7ff8a0d8d8d0>, <folium.vector_layers.CircleMarker object at 0x7ff8a0d8d860>, <folium.vector_layers.CircleMarker object at 0x7ff8a0d8d908>, <folium.vector_layers.CircleMarker object at 0x7ff8a0d8d780>, <folium.vector_layers.CircleMarker object at 0x7ff8a0d8d7b8>, <folium.vector_layers.CircleMarker object at 0x7ff8a0d8d5f8>, <folium.vector_layers.CircleMarker object at 0x7ff8a0d8d748>, <folium.vector_layers.CircleMarker object at 0x7ff8a0d8d7f0>, <folium.vector_layers.CircleMarker object at 0x7ff8a0d8d6d8>, <folium.vector_layers.CircleMarker object at 0x7ff8a0d8d710>, <folium.vector_layers.CircleMarker object at 0x7ff8a0d8d630>, <folium.vector_layers.CircleMarker object at 0x7ff8a0d8d6a0>, <folium.vector_layers.CircleMarker object at 0x7ff8a0d8d518>, <folium.vector_layers.CircleMarker object at 0x7ff8a0d8d588>, <folium.vector_layers.CircleMarker object at 0x7ff8a0d8d9b0>, <folium.vector_layers.CircleMarker object at 0x7ff8a0d8d978>, <folium.vector_layers.CircleMarker object at 0x7ff8a0d8db00>, <folium.vector_layers.CircleMarker object at 0x7ff8a0d8dac8>, <folium.vector_layers.CircleMarker object at 0x7ff8a0d8da90>, <folium.vector_layers.CircleMarker object at 0x7ff8a0d8da58>, <folium.vector_layers.CircleMarker object at 0x7ff8a0d8dbe0>, <folium.vector_layers.CircleMarker object at 0x7ff8a0d8dba8>, <folium.vector_layers.CircleMarker object at 0x7ff8a0d8db70>, <folium.vector_layers.CircleMarker object at 0x7ff8a0d8db38>, <folium.vector_layers.CircleMarker object at 0x7ff8a0d8dcf8>, <folium.vector_layers.CircleMarker object at 0x7ff8a0d8dc88>, <folium.vector_layers.CircleMarker object at 0x7ff8a0d8dc50>, <folium.vector_layers.CircleMarker object at 0x7ff8a0d8dc18>, <folium.vector_layers.CircleMarker object at 0x7ff8a0d8ddd8>, <folium.vector_layers.CircleMarker object at 0x7ff8a0d8dda0>, <folium.vector_layers.CircleMarker object at 0x7ff8a0d8dd68>, <folium.vector_layers.CircleMarker object at 0x7ff8a0d8dd30>, <folium.vector_layers.CircleMarker object at 0x7ff8a0d8deb8>, <folium.vector_layers.CircleMarker object at 0x7ff8a0d8de80>, <folium.vector_layers.CircleMarker object at 0x7ff8a0d8de48>, <folium.vector_layers.CircleMarker object at 0x7ff8a0d8de10>, <folium.vector_layers.CircleMarker object at 0x7ff8a0d8dfd0>, <folium.vector_layers.CircleMarker object at 0x7ff8a0d8df98>, <folium.vector_layers.CircleMarker object at 0x7ff8a0d8df60>, <folium.vector_layers.CircleMarker object at 0x7ff8a0d8df28>, <folium.vector_layers.CircleMarker object at 0x7ff8a0d8def0>, <folium.vector_layers.CircleMarker object at 0x7ff8a0d8d320>, <folium.vector_layers.CircleMarker object at 0x7ff8a15f6128>, <folium.vector_layers.CircleMarker object at 0x7ff8a15f6208>, <folium.vector_layers.CircleMarker object at 0x7ff8a50cb860>, <folium.vector_layers.CircleMarker object at 0x7ff8a50cb7f0>, <folium.vector_layers.CircleMarker object at 0x7ff8a50cb908>, <folium.vector_layers.CircleMarker object at 0x7ff8a50cb710>, <folium.vector_layers.CircleMarker object at 0x7ff8a50cb7b8>, <folium.vector_layers.CircleMarker object at 0x7ff8a50cb748>, <folium.vector_layers.CircleMarker object at 0x7ff8a50cba90>, <folium.vector_layers.CircleMarker object at 0x7ff8a50cb940>, <folium.vector_layers.CircleMarker object at 0x7ff8a50cb6d8>, <folium.vector_layers.CircleMarker object at 0x7ff8a50cb828>, <folium.vector_layers.CircleMarker object at 0x7ff8a50cbcf8>, <folium.vector_layers.CircleMarker object at 0x7ff8a50cbbe0>, <folium.vector_layers.CircleMarker object at 0x7ff8a50cbc18>, <folium.vector_layers.CircleMarker object at 0x7ff8a50cbb38>, <folium.vector_layers.CircleMarker object at 0x7ff8a50cbeb8>, <folium.vector_layers.CircleMarker object at 0x7ff87814bef0>, <folium.vector_layers.CircleMarker object at 0x7ff87814bf60>, <folium.vector_layers.CircleMarker object at 0x7ff87820fc18>, <folium.vector_layers.CircleMarker object at 0x7ff87820f668>, <folium.vector_layers.CircleMarker object at 0x7ff8a50cbda0>, <folium.vector_layers.CircleMarker object at 0x7ff8a50cbdd8>, <folium.vector_layers.CircleMarker object at 0x7ff8a50cbcc0>, <folium.vector_layers.CircleMarker object at 0x7ff8a50cbf60>, <folium.vector_layers.CircleMarker object at 0x7ff8a50cbf98>, <folium.vector_layers.CircleMarker object at 0x7ff8a50cbe80>, <folium.vector_layers.CircleMarker object at 0x7ff8a50cb9e8>, <folium.vector_layers.CircleMarker object at 0x7ff8a50e0ba8>, <folium.vector_layers.CircleMarker object at 0x7ff8a50e0198>, <folium.vector_layers.CircleMarker object at 0x7ff8a50e0390>, <folium.vector_layers.CircleMarker object at 0x7ff8a50e02e8>, <folium.vector_layers.CircleMarker object at 0x7ff8a50e0240>, <folium.vector_layers.CircleMarker object at 0x7ff8a50e0160>, <folium.vector_layers.CircleMarker object at 0x7ff8a50e0128>, <folium.vector_layers.CircleMarker object at 0x7ff8a50e0588>, <folium.vector_layers.CircleMarker object at 0x7ff8a50e05f8>, <folium.vector_layers.CircleMarker object at 0x7ff8a50e04e0>, <folium.vector_layers.CircleMarker object at 0x7ff8a50e0438>, <folium.vector_layers.CircleMarker object at 0x7ff8a50e06d8>, <folium.vector_layers.CircleMarker object at 0x7ff8a50e06a0>, <folium.vector_layers.CircleMarker object at 0x7ff8a50e0710>, <folium.vector_layers.CircleMarker object at 0x7ff8a50e05c0>, <folium.vector_layers.CircleMarker object at 0x7ff8a50e09b0>, <folium.vector_layers.CircleMarker object at 0x7ff8a50e0898>, <folium.vector_layers.CircleMarker object at 0x7ff8a50e08d0>, <folium.vector_layers.CircleMarker object at 0x7ff8a50e07b8>, <folium.vector_layers.CircleMarker object at 0x7ff8a50e07f0>, <folium.vector_layers.CircleMarker object at 0x7ff8a50e0cc0>, <folium.vector_layers.CircleMarker object at 0x7ff8a50e0be0>, <folium.vector_layers.CircleMarker object at 0x7ff8a50e0b00>, <folium.vector_layers.CircleMarker object at 0x7ff8a50e0a58>, <folium.vector_layers.CircleMarker object at 0x7ff8a50e0978>, <folium.vector_layers.CircleMarker object at 0x7ff8a50e0f28>, <folium.vector_layers.CircleMarker object at 0x7ff8a50e0e10>, <folium.vector_layers.CircleMarker object at 0x7ff8a50e0e48>, <folium.vector_layers.CircleMarker object at 0x7ff8a50e0d68>, <folium.vector_layers.CircleMarker object at 0x7ff8a50e0c88>, <folium.vector_layers.CircleMarker object at 0x7ff8a50e0fd0>, <folium.vector_layers.CircleMarker object at 0x7ff8a50e0ef0>, <folium.vector_layers.CircleMarker object at 0x7ff8a50e0080>, <folium.vector_layers.CircleMarker object at 0x7ff8a50e42e8>, <folium.vector_layers.CircleMarker object at 0x7ff8a50e4198>, <folium.vector_layers.CircleMarker object at 0x7ff8a50e40f0>, <folium.vector_layers.CircleMarker object at 0x7ff8a50e4048>, <folium.vector_layers.CircleMarker object at 0x7ff8a50e44e0>, <folium.vector_layers.CircleMarker object at 0x7ff8a50e4518>, <folium.vector_layers.CircleMarker object at 0x7ff8a50e4438>, <folium.vector_layers.CircleMarker object at 0x7ff8a50e4390>, <folium.vector_layers.CircleMarker object at 0x7ff8a50e47b8>, <folium.vector_layers.CircleMarker object at 0x7ff8a50e4710>, <folium.vector_layers.CircleMarker object at 0x7ff8a50e4668>, <folium.vector_layers.CircleMarker object at 0x7ff8a50e45c0>, <folium.vector_layers.CircleMarker object at 0x7ff8a50e4a90>, <folium.vector_layers.CircleMarker object at 0x7ff8a50e49e8>, <folium.vector_layers.CircleMarker object at 0x7ff8a50e4908>, <folium.vector_layers.CircleMarker object at 0x7ff8a50e4940>, <folium.vector_layers.CircleMarker object at 0x7ff8a50e4860>, <folium.vector_layers.CircleMarker object at 0x7ff8a50e4240>, <folium.vector_layers.CircleMarker object at 0x7ff8a0c376a0>, <folium.vector_layers.CircleMarker object at 0x7ff8a0c37160>, <folium.vector_layers.CircleMarker object at 0x7ff8a0c37128>, <folium.vector_layers.CircleMarker object at 0x7ff8a0c370f0>, <folium.vector_layers.CircleMarker object at 0x7ff8a0c370b8>, <folium.vector_layers.CircleMarker object at 0x7ff8a0c37080>, <folium.vector_layers.CircleMarker object at 0x7ff8a0c37048>, <folium.vector_layers.CircleMarker object at 0x7ff8a0c37278>, <folium.vector_layers.CircleMarker object at 0x7ff8a0c37240>, <folium.vector_layers.CircleMarker object at 0x7ff8a0c37208>, <folium.vector_layers.CircleMarker object at 0x7ff8a0c371d0>, <folium.vector_layers.CircleMarker object at 0x7ff8a0c37198>, <folium.vector_layers.CircleMarker object at 0x7ff8a0c37358>, <folium.vector_layers.CircleMarker object at 0x7ff8a0c37320>, <folium.vector_layers.CircleMarker object at 0x7ff8a0c372e8>, <folium.vector_layers.CircleMarker object at 0x7ff8a0c372b0>, <folium.vector_layers.CircleMarker object at 0x7ff8a0c374a8>, <folium.vector_layers.CircleMarker object at 0x7ff8a0c37438>, <folium.vector_layers.CircleMarker object at 0x7ff8a0c37400>, <folium.vector_layers.CircleMarker object at 0x7ff8a0c373c8>, <folium.vector_layers.CircleMarker object at 0x7ff8a0c37390>, <folium.vector_layers.CircleMarker object at 0x7ff8a0c37588>, <folium.vector_layers.CircleMarker object at 0x7ff8a0c37550>, <folium.vector_layers.CircleMarker object at 0x7ff8a0c37518>, <folium.vector_layers.CircleMarker object at 0x7ff8a0c374e0>, <folium.vector_layers.CircleMarker object at 0x7ff8a0c376d8>, <folium.vector_layers.CircleMarker object at 0x7ff8a0c37668>, <folium.vector_layers.CircleMarker object at 0x7ff8a0c37630>, <folium.vector_layers.CircleMarker object at 0x7ff8a0c375f8>, <folium.vector_layers.CircleMarker object at 0x7ff8a0c375c0>, <folium.vector_layers.CircleMarker object at 0x7ff8a0c377b8>, <folium.vector_layers.CircleMarker object at 0x7ff8a0c37780>, <folium.vector_layers.CircleMarker object at 0x7ff8a0c37748>, <folium.vector_layers.CircleMarker object at 0x7ff8a0c37710>, <folium.vector_layers.CircleMarker object at 0x7ff8a0c37470>, <folium.vector_layers.CircleMarker object at 0x7ff87802f9b0>, <folium.vector_layers.CircleMarker object at 0x7ff87802f9e8>, <folium.vector_layers.CircleMarker object at 0x7ff87802fa20>, <folium.vector_layers.CircleMarker object at 0x7ff87802fa58>, <folium.vector_layers.CircleMarker object at 0x7ff87802fa90>, <folium.vector_layers.CircleMarker object at 0x7ff87802fac8>, <folium.vector_layers.CircleMarker object at 0x7ff87802fb00>, <folium.vector_layers.CircleMarker object at 0x7ff87802fb38>, <folium.vector_layers.CircleMarker object at 0x7ff87802fb70>, <folium.vector_layers.CircleMarker object at 0x7ff87802fba8>, <folium.vector_layers.CircleMarker object at 0x7ff87802fbe0>, <folium.vector_layers.CircleMarker object at 0x7ff87802fc18>, <folium.vector_layers.CircleMarker object at 0x7ff87802fc50>, <folium.vector_layers.CircleMarker object at 0x7ff87802fc88>, <folium.vector_layers.CircleMarker object at 0x7ff87802fcc0>, <folium.vector_layers.CircleMarker object at 0x7ff87802fcf8>, <folium.vector_layers.CircleMarker object at 0x7ff87802fd30>, <folium.vector_layers.CircleMarker object at 0x7ff87802fd68>, <folium.vector_layers.CircleMarker object at 0x7ff87802fda0>, <folium.vector_layers.CircleMarker object at 0x7ff87802fdd8>, <folium.vector_layers.CircleMarker object at 0x7ff87802fe10>, <folium.vector_layers.CircleMarker object at 0x7ff87802fe48>, <folium.vector_layers.CircleMarker object at 0x7ff87802fe80>, <folium.vector_layers.CircleMarker object at 0x7ff87802feb8>, <folium.vector_layers.CircleMarker object at 0x7ff87802fef0>, <folium.vector_layers.CircleMarker object at 0x7ff87802ff28>, <folium.vector_layers.CircleMarker object at 0x7ff87802ff60>, <folium.vector_layers.CircleMarker object at 0x7ff87802ff98>, <folium.vector_layers.CircleMarker object at 0x7ff87802ffd0>, <folium.vector_layers.CircleMarker object at 0x7ff87802f978>, <folium.vector_layers.CircleMarker object at 0x7ff8a0ca2080>, <folium.vector_layers.CircleMarker object at 0x7ff8a0ca20b8>, <folium.vector_layers.CircleMarker object at 0x7ff8a0ca20f0>, <folium.vector_layers.CircleMarker object at 0x7ff8a0ca2128>, <folium.vector_layers.CircleMarker object at 0x7ff8a0ca2160>, <folium.vector_layers.CircleMarker object at 0x7ff8a0ca2198>, <folium.vector_layers.CircleMarker object at 0x7ff8a0ca21d0>, <folium.vector_layers.CircleMarker object at 0x7ff8a0ca2208>, <folium.vector_layers.CircleMarker object at 0x7ff8a0ca2240>, <folium.vector_layers.CircleMarker object at 0x7ff8a0ca2278>, <folium.vector_layers.CircleMarker object at 0x7ff8a0ca22b0>, <folium.vector_layers.CircleMarker object at 0x7ff8a0ca22e8>, <folium.vector_layers.CircleMarker object at 0x7ff8a0ca2320>, <folium.vector_layers.CircleMarker object at 0x7ff8a0ca2358>, <folium.vector_layers.CircleMarker object at 0x7ff8a0ca2390>, <folium.vector_layers.CircleMarker object at 0x7ff8a0ca23c8>, <folium.vector_layers.CircleMarker object at 0x7ff8a0ca2400>, <folium.vector_layers.CircleMarker object at 0x7ff8a0ca2438>, <folium.vector_layers.CircleMarker object at 0x7ff8a0ca2470>, <folium.vector_layers.CircleMarker object at 0x7ff8a0ca24a8>, <folium.vector_layers.CircleMarker object at 0x7ff8a0ca24e0>, <folium.vector_layers.CircleMarker object at 0x7ff8a0ca2518>, <folium.vector_layers.CircleMarker object at 0x7ff8a0ca2550>, <folium.vector_layers.CircleMarker object at 0x7ff8a0ca2588>, <folium.vector_layers.CircleMarker object at 0x7ff8a0ca25c0>, <folium.vector_layers.CircleMarker object at 0x7ff8a0ca25f8>, <folium.vector_layers.CircleMarker object at 0x7ff8a0ca2630>, <folium.vector_layers.CircleMarker object at 0x7ff8a0ca2668>, <folium.vector_layers.CircleMarker object at 0x7ff8a0ca26a0>, <folium.vector_layers.CircleMarker object at 0x7ff8a0ca26d8>, <folium.vector_layers.CircleMarker object at 0x7ff8a0ca2710>, <folium.vector_layers.CircleMarker object at 0x7ff8a0ca2748>, <folium.vector_layers.CircleMarker object at 0x7ff8a0ca2780>, <folium.vector_layers.CircleMarker object at 0x7ff8a0ca27b8>, <folium.vector_layers.CircleMarker object at 0x7ff8a0ca27f0>, <folium.vector_layers.CircleMarker object at 0x7ff8a0ca2828>, <folium.vector_layers.CircleMarker object at 0x7ff8a0ca2860>, <folium.vector_layers.CircleMarker object at 0x7ff8a0ca2898>, <folium.vector_layers.CircleMarker object at 0x7ff8a0ca28d0>, <folium.vector_layers.CircleMarker object at 0x7ff8a0ca2908>, <folium.vector_layers.CircleMarker object at 0x7ff8a0ca2940>, <folium.vector_layers.CircleMarker object at 0x7ff8a0ca2978>, <folium.vector_layers.CircleMarker object at 0x7ff8a0ca29b0>, <folium.vector_layers.CircleMarker object at 0x7ff8a0ca29e8>, <folium.vector_layers.CircleMarker object at 0x7ff8a0ca2a20>, <folium.vector_layers.CircleMarker object at 0x7ff8a0ca2a58>, <folium.vector_layers.CircleMarker object at 0x7ff8a0ca2a90>, <folium.vector_layers.CircleMarker object at 0x7ff8a0ca2ac8>, <folium.vector_layers.CircleMarker object at 0x7ff8a0ca2b00>, <folium.vector_layers.CircleMarker object at 0x7ff8a0ca2b38>, <folium.vector_layers.CircleMarker object at 0x7ff8a0ca2b70>, <folium.vector_layers.CircleMarker object at 0x7ff8a0ca2ba8>, <folium.vector_layers.CircleMarker object at 0x7ff8a0ca2be0>, <folium.vector_layers.CircleMarker object at 0x7ff8a0ca2c18>, <folium.vector_layers.CircleMarker object at 0x7ff8a0ca2c50>, <folium.vector_layers.CircleMarker object at 0x7ff8a0ca2c88>, <folium.vector_layers.CircleMarker object at 0x7ff8a0ca2cc0>, <folium.vector_layers.CircleMarker object at 0x7ff8a0ca2cf8>, <folium.vector_layers.CircleMarker object at 0x7ff8a0ca2d30>, <folium.vector_layers.CircleMarker object at 0x7ff8a0ca2d68>, <folium.vector_layers.CircleMarker object at 0x7ff8a0ca2da0>, <folium.vector_layers.CircleMarker object at 0x7ff8a0ca2dd8>, <folium.vector_layers.CircleMarker object at 0x7ff8a0ca2e10>, <folium.vector_layers.CircleMarker object at 0x7ff8a0ca2e48>, <folium.vector_layers.CircleMarker object at 0x7ff8a0ca2e80>, <folium.vector_layers.CircleMarker object at 0x7ff8a0ca2eb8>, <folium.vector_layers.CircleMarker object at 0x7ff8a0ca2ef0>, <folium.vector_layers.CircleMarker object at 0x7ff8a0ca2f28>, <folium.vector_layers.CircleMarker object at 0x7ff8a0ca2f60>, <folium.vector_layers.CircleMarker object at 0x7ff8a0ca2f98>, <folium.vector_layers.CircleMarker object at 0x7ff8a0ca2fd0>, <folium.vector_layers.CircleMarker object at 0x7ff8a0ca2048>, <folium.vector_layers.CircleMarker object at 0x7ff8a0c09080>, <folium.vector_layers.CircleMarker object at 0x7ff8a0c090b8>, <folium.vector_layers.CircleMarker object at 0x7ff8a0c090f0>, <folium.vector_layers.CircleMarker object at 0x7ff8a0c09128>, <folium.vector_layers.CircleMarker object at 0x7ff8a0c09160>, <folium.vector_layers.CircleMarker object at 0x7ff8a0c09198>, <folium.vector_layers.CircleMarker object at 0x7ff8a0c091d0>, <folium.vector_layers.CircleMarker object at 0x7ff8a0c09208>, <folium.vector_layers.CircleMarker object at 0x7ff8a0c09240>, <folium.vector_layers.CircleMarker object at 0x7ff8a0c09278>, <folium.vector_layers.CircleMarker object at 0x7ff8a0c092b0>, <folium.vector_layers.CircleMarker object at 0x7ff8a0c092e8>, <folium.vector_layers.CircleMarker object at 0x7ff8a0c09320>, <folium.vector_layers.CircleMarker object at 0x7ff8a0c09358>, <folium.vector_layers.CircleMarker object at 0x7ff8a0c09390>, <folium.vector_layers.CircleMarker object at 0x7ff8a0c093c8>, <folium.vector_layers.CircleMarker object at 0x7ff8a0c09400>, <folium.vector_layers.CircleMarker object at 0x7ff8a0c09438>, <folium.vector_layers.CircleMarker object at 0x7ff8a0c09470>, <folium.vector_layers.CircleMarker object at 0x7ff8a0c094a8>, <folium.vector_layers.CircleMarker object at 0x7ff8a0c094e0>, <folium.vector_layers.CircleMarker object at 0x7ff8a0c09518>, <folium.vector_layers.CircleMarker object at 0x7ff8a0c09550>, <folium.vector_layers.CircleMarker object at 0x7ff8a0c09588>, <folium.vector_layers.CircleMarker object at 0x7ff8a0c095c0>, <folium.vector_layers.CircleMarker object at 0x7ff8a0c095f8>, <folium.vector_layers.CircleMarker object at 0x7ff8a0c09630>, <folium.vector_layers.CircleMarker object at 0x7ff8a0c09668>, <folium.vector_layers.CircleMarker object at 0x7ff8a0c096a0>, <folium.vector_layers.CircleMarker object at 0x7ff8a0c096d8>, <folium.vector_layers.CircleMarker object at 0x7ff8a0c09710>, <folium.vector_layers.CircleMarker object at 0x7ff8a0c09748>, <folium.vector_layers.CircleMarker object at 0x7ff8a0c09780>, <folium.vector_layers.CircleMarker object at 0x7ff8a0c097b8>, <folium.vector_layers.CircleMarker object at 0x7ff8a0c097f0>, <folium.vector_layers.CircleMarker object at 0x7ff8a0c09828>, <folium.vector_layers.CircleMarker object at 0x7ff8a0c09860>, <folium.vector_layers.CircleMarker object at 0x7ff8a0c09898>, <folium.vector_layers.CircleMarker object at 0x7ff8a0c098d0>, <folium.vector_layers.CircleMarker object at 0x7ff8a0c09908>, <folium.vector_layers.CircleMarker object at 0x7ff8a0c09940>, <folium.vector_layers.CircleMarker object at 0x7ff8a0c09978>, <folium.vector_layers.CircleMarker object at 0x7ff8a0c099b0>, <folium.vector_layers.CircleMarker object at 0x7ff8a0c099e8>, <folium.vector_layers.CircleMarker object at 0x7ff8a0c09a20>, <folium.vector_layers.CircleMarker object at 0x7ff8a0c09a58>, <folium.vector_layers.CircleMarker object at 0x7ff8a0c09a90>, <folium.vector_layers.CircleMarker object at 0x7ff8a0c09ac8>, <folium.vector_layers.CircleMarker object at 0x7ff8a0c09b00>, <folium.vector_layers.CircleMarker object at 0x7ff8a0c09b38>, <folium.vector_layers.CircleMarker object at 0x7ff8a0c09b70>, <folium.vector_layers.CircleMarker object at 0x7ff8a0c09ba8>, <folium.vector_layers.CircleMarker object at 0x7ff8a0c09be0>, <folium.vector_layers.CircleMarker object at 0x7ff8a0c09c18>, <folium.vector_layers.CircleMarker object at 0x7ff8a0c09c50>, <folium.vector_layers.CircleMarker object at 0x7ff8a0c09c88>, <folium.vector_layers.CircleMarker object at 0x7ff8a0c09cc0>, <folium.vector_layers.CircleMarker object at 0x7ff8a0c09cf8>, <folium.vector_layers.CircleMarker object at 0x7ff8a0c09d30>, <folium.vector_layers.CircleMarker object at 0x7ff8a0c09d68>, <folium.vector_layers.CircleMarker object at 0x7ff8a0c09da0>, <folium.vector_layers.CircleMarker object at 0x7ff8a0c09dd8>, <folium.vector_layers.CircleMarker object at 0x7ff8a0c09e10>, <folium.vector_layers.CircleMarker object at 0x7ff8a0c09e48>, <folium.vector_layers.CircleMarker object at 0x7ff8a0c09e80>, <folium.vector_layers.CircleMarker object at 0x7ff8a0c09eb8>, <folium.vector_layers.CircleMarker object at 0x7ff8a0c09ef0>, <folium.vector_layers.CircleMarker object at 0x7ff8a0c09f28>, <folium.vector_layers.CircleMarker object at 0x7ff8a0c09f60>, <folium.vector_layers.CircleMarker object at 0x7ff8a0c09f98>, <folium.vector_layers.CircleMarker object at 0x7ff8a0c09fd0>, <folium.vector_layers.CircleMarker object at 0x7ff8a0c09048>, <folium.vector_layers.CircleMarker object at 0x7ff8a0c19080>, <folium.vector_layers.CircleMarker object at 0x7ff8a0c190b8>, <folium.vector_layers.CircleMarker object at 0x7ff8a0c190f0>, <folium.vector_layers.CircleMarker object at 0x7ff8a0c19128>, <folium.vector_layers.CircleMarker object at 0x7ff8a0c19160>, <folium.vector_layers.CircleMarker object at 0x7ff8a0c19198>, <folium.vector_layers.CircleMarker object at 0x7ff8a0c191d0>, <folium.vector_layers.CircleMarker object at 0x7ff8a0c19208>, <folium.vector_layers.CircleMarker object at 0x7ff8a0c19240>, <folium.vector_layers.CircleMarker object at 0x7ff8a0c19278>, <folium.vector_layers.CircleMarker object at 0x7ff8a0c192b0>, <folium.vector_layers.CircleMarker object at 0x7ff8a0c192e8>, <folium.vector_layers.CircleMarker object at 0x7ff8a0c19320>, <folium.vector_layers.CircleMarker object at 0x7ff8a0c19358>, <folium.vector_layers.CircleMarker object at 0x7ff8a0c19390>, <folium.vector_layers.CircleMarker object at 0x7ff8a0c193c8>, <folium.vector_layers.CircleMarker object at 0x7ff8a0c19400>, <folium.vector_layers.CircleMarker object at 0x7ff8a0c19438>, <folium.vector_layers.CircleMarker object at 0x7ff8a0c19470>, <folium.vector_layers.CircleMarker object at 0x7ff8a0c194a8>, <folium.vector_layers.CircleMarker object at 0x7ff8a0c194e0>, <folium.vector_layers.CircleMarker object at 0x7ff8a0c19518>, <folium.vector_layers.CircleMarker object at 0x7ff8a0c19550>, <folium.vector_layers.CircleMarker object at 0x7ff8a0c19588>, <folium.vector_layers.CircleMarker object at 0x7ff8a0c195c0>, <folium.vector_layers.CircleMarker object at 0x7ff8a0c195f8>, <folium.vector_layers.CircleMarker object at 0x7ff8a0c19630>, <folium.vector_layers.CircleMarker object at 0x7ff8a0c19668>, <folium.vector_layers.CircleMarker object at 0x7ff8a0c196a0>, <folium.vector_layers.CircleMarker object at 0x7ff8a0c196d8>, <folium.vector_layers.CircleMarker object at 0x7ff8a0c19710>, <folium.vector_layers.CircleMarker object at 0x7ff8a0c19748>, <folium.vector_layers.CircleMarker object at 0x7ff8a0c19780>, <folium.vector_layers.CircleMarker object at 0x7ff8a0c197b8>, <folium.vector_layers.CircleMarker object at 0x7ff8a0c197f0>, <folium.vector_layers.CircleMarker object at 0x7ff8a0c19828>, <folium.vector_layers.CircleMarker object at 0x7ff8a0c19860>, <folium.vector_layers.CircleMarker object at 0x7ff8a0c19898>, <folium.vector_layers.CircleMarker object at 0x7ff8a0c198d0>, <folium.vector_layers.CircleMarker object at 0x7ff8a0c19908>, <folium.vector_layers.CircleMarker object at 0x7ff8a0c19940>, <folium.vector_layers.CircleMarker object at 0x7ff8a0c19978>, <folium.vector_layers.CircleMarker object at 0x7ff8a0c199b0>, <folium.vector_layers.CircleMarker object at 0x7ff8a0c199e8>, <folium.vector_layers.CircleMarker object at 0x7ff8a0c19a20>, <folium.vector_layers.CircleMarker object at 0x7ff8a0c19a58>, <folium.vector_layers.CircleMarker object at 0x7ff8a0c19a90>, <folium.vector_layers.CircleMarker object at 0x7ff8a0c19ac8>, <folium.vector_layers.CircleMarker object at 0x7ff8a0c19b00>, <folium.vector_layers.CircleMarker object at 0x7ff8a0c19b38>, <folium.vector_layers.CircleMarker object at 0x7ff8a0c19b70>, <folium.vector_layers.CircleMarker object at 0x7ff8a0c19ba8>, <folium.vector_layers.CircleMarker object at 0x7ff8a0c19be0>, <folium.vector_layers.CircleMarker object at 0x7ff8a0c19c18>, <folium.vector_layers.CircleMarker object at 0x7ff8a0c19c50>, <folium.vector_layers.CircleMarker object at 0x7ff8a0c19c88>, <folium.vector_layers.CircleMarker object at 0x7ff8a0c19cc0>, <folium.vector_layers.CircleMarker object at 0x7ff8a0c19cf8>, <folium.vector_layers.CircleMarker object at 0x7ff8a0c19d30>, <folium.vector_layers.CircleMarker object at 0x7ff8a0c19d68>, <folium.vector_layers.CircleMarker object at 0x7ff8a0c19da0>, <folium.vector_layers.CircleMarker object at 0x7ff8a0c19dd8>, <folium.vector_layers.CircleMarker object at 0x7ff8a0c19e10>, <folium.vector_layers.CircleMarker object at 0x7ff8a0c19e48>, <folium.vector_layers.CircleMarker object at 0x7ff8a0c19e80>, <folium.vector_layers.CircleMarker object at 0x7ff8a0c19eb8>, <folium.vector_layers.CircleMarker object at 0x7ff8a0c19ef0>, <folium.vector_layers.CircleMarker object at 0x7ff8a0c19f28>, <folium.vector_layers.CircleMarker object at 0x7ff8a0c19f60>, <folium.vector_layers.CircleMarker object at 0x7ff8a0c19f98>, <folium.vector_layers.CircleMarker object at 0x7ff8a0c19fd0>, <folium.vector_layers.CircleMarker object at 0x7ff8a0c19048>, <folium.vector_layers.CircleMarker object at 0x7ff8a0c24780>, <folium.vector_layers.CircleMarker object at 0x7ff8a0c248d0>, <folium.vector_layers.CircleMarker object at 0x7ff8a0c24a20>, <folium.vector_layers.CircleMarker object at 0x7ff8a0c24b38>, <folium.vector_layers.CircleMarker object at 0x7ff8a0c24c18>, <folium.vector_layers.CircleMarker object at 0x7ff8a0c24048>, <folium.vector_layers.CircleMarker object at 0x7ff8a0c24160>, <folium.vector_layers.CircleMarker object at 0x7ff8a0c24128>, <folium.vector_layers.CircleMarker object at 0x7ff8a0c240f0>, <folium.vector_layers.CircleMarker object at 0x7ff8a0c240b8>, <folium.vector_layers.CircleMarker object at 0x7ff8a0c24080>, <folium.vector_layers.CircleMarker object at 0x7ff8a0c24278>, <folium.vector_layers.CircleMarker object at 0x7ff8a0c24208>, <folium.vector_layers.CircleMarker object at 0x7ff8a0c241d0>, <folium.vector_layers.CircleMarker object at 0x7ff8a0c24198>, <folium.vector_layers.CircleMarker object at 0x7ff8a0c24390>, <folium.vector_layers.CircleMarker object at 0x7ff8a0c24358>, <folium.vector_layers.CircleMarker object at 0x7ff8a0c24320>, <folium.vector_layers.CircleMarker object at 0x7ff8a0c242e8>, <folium.vector_layers.CircleMarker object at 0x7ff8a0c242b0>, <folium.vector_layers.CircleMarker object at 0x7ff8a0c244e0>, <folium.vector_layers.CircleMarker object at 0x7ff8a0c244a8>, <folium.vector_layers.CircleMarker object at 0x7ff8a0c24470>, <folium.vector_layers.CircleMarker object at 0x7ff8a0c24438>, <folium.vector_layers.CircleMarker object at 0x7ff8a0c24400>, <folium.vector_layers.CircleMarker object at 0x7ff8a0c243c8>, <folium.vector_layers.CircleMarker object at 0x7ff8a0c245c0>, <folium.vector_layers.CircleMarker object at 0x7ff8a0c24588>, <folium.vector_layers.CircleMarker object at 0x7ff8a0c24550>, <folium.vector_layers.CircleMarker object at 0x7ff8a0c24518>, <folium.vector_layers.CircleMarker object at 0x7ff8a0c246a0>, <folium.vector_layers.CircleMarker object at 0x7ff8a0c24668>, <folium.vector_layers.CircleMarker object at 0x7ff8a0c24630>, <folium.vector_layers.CircleMarker object at 0x7ff8a0c245f8>, <folium.vector_layers.CircleMarker object at 0x7ff8a0c247b8>, <folium.vector_layers.CircleMarker object at 0x7ff8a0c24748>, <folium.vector_layers.CircleMarker object at 0x7ff8a0c24710>, <folium.vector_layers.CircleMarker object at 0x7ff8a0c246d8>, <folium.vector_layers.CircleMarker object at 0x7ff8a0c24908>, <folium.vector_layers.CircleMarker object at 0x7ff8a0c24898>, <folium.vector_layers.CircleMarker object at 0x7ff8a0c24860>, <folium.vector_layers.CircleMarker object at 0x7ff8a0c24828>, <folium.vector_layers.CircleMarker object at 0x7ff8a0c247f0>, <folium.vector_layers.CircleMarker object at 0x7ff8a0c24a58>, <folium.vector_layers.CircleMarker object at 0x7ff8a0c249e8>, <folium.vector_layers.CircleMarker object at 0x7ff8a0c249b0>, <folium.vector_layers.CircleMarker object at 0x7ff8a0c24978>, <folium.vector_layers.CircleMarker object at 0x7ff8a0c24940>, <folium.vector_layers.CircleMarker object at 0x7ff8a0c24b70>, <folium.vector_layers.CircleMarker object at 0x7ff8a0c24b00>, <folium.vector_layers.CircleMarker object at 0x7ff8a0c24ac8>, <folium.vector_layers.CircleMarker object at 0x7ff8a0c24a90>, <folium.vector_layers.CircleMarker object at 0x7ff8a0c24c50>, <folium.vector_layers.CircleMarker object at 0x7ff8a0c24be0>, <folium.vector_layers.CircleMarker object at 0x7ff8a0c24ba8>, <folium.vector_layers.CircleMarker object at 0x7ff8a0c24d30>, <folium.vector_layers.CircleMarker object at 0x7ff8a0c24cf8>, <folium.vector_layers.CircleMarker object at 0x7ff8a0c24cc0>, <folium.vector_layers.CircleMarker object at 0x7ff8a0c24c88>, <folium.vector_layers.CircleMarker object at 0x7ff8a0c24e10>, <folium.vector_layers.CircleMarker object at 0x7ff8a0c24dd8>, <folium.vector_layers.CircleMarker object at 0x7ff8a0c24da0>, <folium.vector_layers.CircleMarker object at 0x7ff8a0c24d68>, <folium.vector_layers.CircleMarker object at 0x7ff8a0c24f60>, <folium.vector_layers.CircleMarker object at 0x7ff8a0c24f28>, <folium.vector_layers.CircleMarker object at 0x7ff8a0c24ef0>, <folium.vector_layers.CircleMarker object at 0x7ff8a0c24eb8>, <folium.vector_layers.CircleMarker object at 0x7ff8a0c24e80>, <folium.vector_layers.CircleMarker object at 0x7ff8a0c24e48>, <folium.vector_layers.CircleMarker object at 0x7ff8a0c24fd0>, <folium.vector_layers.CircleMarker object at 0x7ff8a0c24f98>, <folium.vector_layers.CircleMarker object at 0x7ff8a0c24240>, <folium.vector_layers.CircleMarker object at 0x7ff8a0d2b080>, <folium.vector_layers.CircleMarker object at 0x7ff8a0d2b0b8>, <folium.vector_layers.CircleMarker object at 0x7ff8a0d2b0f0>, <folium.vector_layers.CircleMarker object at 0x7ff8a0d2b128>, <folium.vector_layers.CircleMarker object at 0x7ff8a0d2b160>, <folium.vector_layers.CircleMarker object at 0x7ff8a0d2b198>, <folium.vector_layers.CircleMarker object at 0x7ff8a0d2b1d0>, <folium.vector_layers.CircleMarker object at 0x7ff8a0d2b208>, <folium.vector_layers.CircleMarker object at 0x7ff8a0d2b240>, <folium.vector_layers.CircleMarker object at 0x7ff8a0d2b278>, <folium.vector_layers.CircleMarker object at 0x7ff8a0d2b2b0>, <folium.vector_layers.CircleMarker object at 0x7ff8a0d2b2e8>, <folium.vector_layers.CircleMarker object at 0x7ff8a0d2b320>, <folium.vector_layers.CircleMarker object at 0x7ff8a0d2b358>, <folium.vector_layers.CircleMarker object at 0x7ff8a0d2b390>, <folium.vector_layers.CircleMarker object at 0x7ff8a0d2b3c8>, <folium.vector_layers.CircleMarker object at 0x7ff8a0d2b400>, <folium.vector_layers.CircleMarker object at 0x7ff8a0d2b438>, <folium.vector_layers.CircleMarker object at 0x7ff8a0d2b470>, <folium.vector_layers.CircleMarker object at 0x7ff8a0d2b4a8>, <folium.vector_layers.CircleMarker object at 0x7ff8a0d2b4e0>, <folium.vector_layers.CircleMarker object at 0x7ff8a0d2b518>, <folium.vector_layers.CircleMarker object at 0x7ff8a0d2b550>, <folium.vector_layers.CircleMarker object at 0x7ff8a0d2b588>, <folium.vector_layers.CircleMarker object at 0x7ff8a0d2b5c0>, <folium.vector_layers.CircleMarker object at 0x7ff8a0d2b5f8>, <folium.vector_layers.CircleMarker object at 0x7ff8a0d2b630>, <folium.vector_layers.CircleMarker object at 0x7ff8a0d2b668>, <folium.vector_layers.CircleMarker object at 0x7ff8a0d2b6a0>, <folium.vector_layers.CircleMarker object at 0x7ff8a0d2b6d8>, <folium.vector_layers.CircleMarker object at 0x7ff8a0d2b710>, <folium.vector_layers.CircleMarker object at 0x7ff8a0d2b748>, <folium.vector_layers.CircleMarker object at 0x7ff8a0d2b780>, <folium.vector_layers.CircleMarker object at 0x7ff8a0d2b7b8>, <folium.vector_layers.CircleMarker object at 0x7ff8a0d2b7f0>, <folium.vector_layers.CircleMarker object at 0x7ff8a0d2b828>, <folium.vector_layers.CircleMarker object at 0x7ff8a0d2b860>, <folium.vector_layers.CircleMarker object at 0x7ff8a0d2b898>, <folium.vector_layers.CircleMarker object at 0x7ff8a0d2b8d0>, <folium.vector_layers.CircleMarker object at 0x7ff8a0d2b908>, <folium.vector_layers.CircleMarker object at 0x7ff8a0d2b940>, <folium.vector_layers.CircleMarker object at 0x7ff8a0d2b978>, <folium.vector_layers.CircleMarker object at 0x7ff8a0d2b9b0>, <folium.vector_layers.CircleMarker object at 0x7ff8a0d2b9e8>, <folium.vector_layers.CircleMarker object at 0x7ff8a0d2ba20>, <folium.vector_layers.CircleMarker object at 0x7ff8a0d2ba58>, <folium.vector_layers.CircleMarker object at 0x7ff8a0d2ba90>, <folium.vector_layers.CircleMarker object at 0x7ff8a0d2bac8>, <folium.vector_layers.CircleMarker object at 0x7ff8a0d2bb00>, <folium.vector_layers.CircleMarker object at 0x7ff8a0d2bb38>, <folium.vector_layers.CircleMarker object at 0x7ff8a0d2bb70>, <folium.vector_layers.CircleMarker object at 0x7ff8a0d2bba8>, <folium.vector_layers.CircleMarker object at 0x7ff8a0d2bbe0>, <folium.vector_layers.CircleMarker object at 0x7ff8a0d2bc18>, <folium.vector_layers.CircleMarker object at 0x7ff8a0d2bc50>, <folium.vector_layers.CircleMarker object at 0x7ff8a0d2bc88>, <folium.vector_layers.CircleMarker object at 0x7ff8a0d2bcc0>, <folium.vector_layers.CircleMarker object at 0x7ff8a0d2bcf8>, <folium.vector_layers.CircleMarker object at 0x7ff8a0d2bd30>, <folium.vector_layers.CircleMarker object at 0x7ff8a0d2bd68>, <folium.vector_layers.CircleMarker object at 0x7ff8a0d2bda0>, <folium.vector_layers.CircleMarker object at 0x7ff8a0d2bdd8>, <folium.vector_layers.CircleMarker object at 0x7ff8a0d2be10>, <folium.vector_layers.CircleMarker object at 0x7ff8a0d2be48>, <folium.vector_layers.CircleMarker object at 0x7ff8a0d2be80>, <folium.vector_layers.CircleMarker object at 0x7ff8a0d2beb8>, <folium.vector_layers.CircleMarker object at 0x7ff8a0d2bef0>, <folium.vector_layers.CircleMarker object at 0x7ff8a0d2bf28>, <folium.vector_layers.CircleMarker object at 0x7ff8a0d2bf60>, <folium.vector_layers.CircleMarker object at 0x7ff8a0d2bf98>, <folium.vector_layers.CircleMarker object at 0x7ff8a0d2bfd0>, <folium.vector_layers.CircleMarker object at 0x7ff8a0d2b048>, <folium.vector_layers.CircleMarker object at 0x7ff8a0d3b080>, <folium.vector_layers.CircleMarker object at 0x7ff8a0d3b0b8>, <folium.vector_layers.CircleMarker object at 0x7ff8a0d3b0f0>, <folium.vector_layers.CircleMarker object at 0x7ff8a0d3b128>, <folium.vector_layers.CircleMarker object at 0x7ff8a0d3b160>, <folium.vector_layers.CircleMarker object at 0x7ff8a0d3b198>, <folium.vector_layers.CircleMarker object at 0x7ff8a0d3b1d0>, <folium.vector_layers.CircleMarker object at 0x7ff8a0d3b208>, <folium.vector_layers.CircleMarker object at 0x7ff8a0d3b240>, <folium.vector_layers.CircleMarker object at 0x7ff8a0d3b278>, <folium.vector_layers.CircleMarker object at 0x7ff8a0d3b2b0>, <folium.vector_layers.CircleMarker object at 0x7ff8a0d3b2e8>, <folium.vector_layers.CircleMarker object at 0x7ff8a0d3b320>, <folium.vector_layers.CircleMarker object at 0x7ff8a0d3b358>, <folium.vector_layers.CircleMarker object at 0x7ff8a0d3b390>, <folium.vector_layers.CircleMarker object at 0x7ff8a0d3b3c8>, <folium.vector_layers.CircleMarker object at 0x7ff8a0d3b400>, <folium.vector_layers.CircleMarker object at 0x7ff8a0d3b438>, <folium.vector_layers.CircleMarker object at 0x7ff8a0d3b470>, <folium.vector_layers.CircleMarker object at 0x7ff8a0d3b4a8>, <folium.vector_layers.CircleMarker object at 0x7ff8a0d3b4e0>, <folium.vector_layers.CircleMarker object at 0x7ff8a0d3b518>, <folium.vector_layers.CircleMarker object at 0x7ff8a0d3b550>, <folium.vector_layers.CircleMarker object at 0x7ff8a0d3b588>, <folium.vector_layers.CircleMarker object at 0x7ff8a0d3b5c0>, <folium.vector_layers.CircleMarker object at 0x7ff8a0d3b5f8>, <folium.vector_layers.CircleMarker object at 0x7ff8a0d3b630>, <folium.vector_layers.CircleMarker object at 0x7ff8a0d3b668>, <folium.vector_layers.CircleMarker object at 0x7ff8a0d3b6a0>, <folium.vector_layers.CircleMarker object at 0x7ff8a0d3b6d8>, <folium.vector_layers.CircleMarker object at 0x7ff8a0d3b710>, <folium.vector_layers.CircleMarker object at 0x7ff8a0d3b748>, <folium.vector_layers.CircleMarker object at 0x7ff8a0d3b780>, <folium.vector_layers.CircleMarker object at 0x7ff8a0d3b7b8>, <folium.vector_layers.CircleMarker object at 0x7ff8a0d3b7f0>, <folium.vector_layers.CircleMarker object at 0x7ff8a0d3b828>, <folium.vector_layers.CircleMarker object at 0x7ff8a0d3b860>, <folium.vector_layers.CircleMarker object at 0x7ff8a0d3b898>, <folium.vector_layers.CircleMarker object at 0x7ff8a0d3b8d0>, <folium.vector_layers.CircleMarker object at 0x7ff8a0d3b908>, <folium.vector_layers.CircleMarker object at 0x7ff8a0d3b940>, <folium.vector_layers.CircleMarker object at 0x7ff8a0d3b978>, <folium.vector_layers.CircleMarker object at 0x7ff8a0d3b9b0>, <folium.vector_layers.CircleMarker object at 0x7ff8a0d3b9e8>, <folium.vector_layers.CircleMarker object at 0x7ff8a0d3ba20>, <folium.vector_layers.CircleMarker object at 0x7ff8a0d3ba58>, <folium.vector_layers.CircleMarker object at 0x7ff8a0d3ba90>, <folium.vector_layers.CircleMarker object at 0x7ff8a0d3bac8>, <folium.vector_layers.CircleMarker object at 0x7ff8a0d3bb00>, <folium.vector_layers.CircleMarker object at 0x7ff8a0d3bb38>, <folium.vector_layers.CircleMarker object at 0x7ff8a0d3bb70>, <folium.vector_layers.CircleMarker object at 0x7ff8a0d3bba8>, <folium.vector_layers.CircleMarker object at 0x7ff8a0d3bbe0>, <folium.vector_layers.CircleMarker object at 0x7ff8a0d3bc18>, <folium.vector_layers.CircleMarker object at 0x7ff8a0d3bc50>, <folium.vector_layers.CircleMarker object at 0x7ff8a0d3bc88>, <folium.vector_layers.CircleMarker object at 0x7ff8a0d3bcc0>, <folium.vector_layers.CircleMarker object at 0x7ff8a0d3bcf8>, <folium.vector_layers.CircleMarker object at 0x7ff8a0d3bd30>, <folium.vector_layers.CircleMarker object at 0x7ff8a0d3bd68>, <folium.vector_layers.CircleMarker object at 0x7ff8a0d3bda0>, <folium.vector_layers.CircleMarker object at 0x7ff8a0d3bdd8>, <folium.vector_layers.CircleMarker object at 0x7ff8a0d3be10>, <folium.vector_layers.CircleMarker object at 0x7ff8a0d3be48>, <folium.vector_layers.CircleMarker object at 0x7ff8a0d3be80>, <folium.vector_layers.CircleMarker object at 0x7ff8a0d3beb8>, <folium.vector_layers.CircleMarker object at 0x7ff8a0d3bef0>, <folium.vector_layers.CircleMarker object at 0x7ff8a0d3bf28>, <folium.vector_layers.CircleMarker object at 0x7ff8a0d3bf60>, <folium.vector_layers.CircleMarker object at 0x7ff8a0d3bf98>, <folium.vector_layers.CircleMarker object at 0x7ff8a0d3bfd0>, <folium.vector_layers.CircleMarker object at 0x7ff8a0d3b048>, <folium.vector_layers.CircleMarker object at 0x7ff8a0d49a90>, <folium.vector_layers.CircleMarker object at 0x7ff8a0d49be0>, <folium.vector_layers.CircleMarker object at 0x7ff8a0d49e10>, <folium.vector_layers.CircleMarker object at 0x7ff8a0d49128>, <folium.vector_layers.CircleMarker object at 0x7ff8a0d490f0>, <folium.vector_layers.CircleMarker object at 0x7ff8a0d490b8>, <folium.vector_layers.CircleMarker object at 0x7ff8a0d49080>, <folium.vector_layers.CircleMarker object at 0x7ff8a0d49048>, <folium.vector_layers.CircleMarker object at 0x7ff8a0d49208>, <folium.vector_layers.CircleMarker object at 0x7ff8a0d491d0>, <folium.vector_layers.CircleMarker object at 0x7ff8a0d49198>, <folium.vector_layers.CircleMarker object at 0x7ff8a0d49160>, <folium.vector_layers.CircleMarker object at 0x7ff8a0d49320>, <folium.vector_layers.CircleMarker object at 0x7ff8a0d492b0>, <folium.vector_layers.CircleMarker object at 0x7ff8a0d49278>, <folium.vector_layers.CircleMarker object at 0x7ff8a0d49240>, <folium.vector_layers.CircleMarker object at 0x7ff8a0d49400>, <folium.vector_layers.CircleMarker object at 0x7ff8a0d493c8>, <folium.vector_layers.CircleMarker object at 0x7ff8a0d49390>, <folium.vector_layers.CircleMarker object at 0x7ff8a0d49358>, <folium.vector_layers.CircleMarker object at 0x7ff8a0d49550>, <folium.vector_layers.CircleMarker object at 0x7ff8a0d49518>, <folium.vector_layers.CircleMarker object at 0x7ff8a0d494e0>, <folium.vector_layers.CircleMarker object at 0x7ff8a0d494a8>, <folium.vector_layers.CircleMarker object at 0x7ff8a0d49470>, <folium.vector_layers.CircleMarker object at 0x7ff8a0d49438>, <folium.vector_layers.CircleMarker object at 0x7ff8a0d49668>, <folium.vector_layers.CircleMarker object at 0x7ff8a0d49630>, <folium.vector_layers.CircleMarker object at 0x7ff8a0d495f8>, <folium.vector_layers.CircleMarker object at 0x7ff8a0d495c0>, <folium.vector_layers.CircleMarker object at 0x7ff8a0d49588>, <folium.vector_layers.CircleMarker object at 0x7ff8a0d49748>, <folium.vector_layers.CircleMarker object at 0x7ff8a0d49710>, <folium.vector_layers.CircleMarker object at 0x7ff8a0d496d8>, <folium.vector_layers.CircleMarker object at 0x7ff8a0d496a0>, <folium.vector_layers.CircleMarker object at 0x7ff8a0d49898>, <folium.vector_layers.CircleMarker object at 0x7ff8a0d49860>, <folium.vector_layers.CircleMarker object at 0x7ff8a0d49828>, <folium.vector_layers.CircleMarker object at 0x7ff8a0d497f0>, <folium.vector_layers.CircleMarker object at 0x7ff8a0d497b8>, <folium.vector_layers.CircleMarker object at 0x7ff8a0d49780>, <folium.vector_layers.CircleMarker object at 0x7ff8a0d499b0>, <folium.vector_layers.CircleMarker object at 0x7ff8a0d49978>, <folium.vector_layers.CircleMarker object at 0x7ff8a0d49940>, <folium.vector_layers.CircleMarker object at 0x7ff8a0d49908>, <folium.vector_layers.CircleMarker object at 0x7ff8a0d498d0>, <folium.vector_layers.CircleMarker object at 0x7ff8a0d49ac8>, <folium.vector_layers.CircleMarker object at 0x7ff8a0d49a58>, <folium.vector_layers.CircleMarker object at 0x7ff8a0d49a20>, <folium.vector_layers.CircleMarker object at 0x7ff8a0d499e8>, <folium.vector_layers.CircleMarker object at 0x7ff8a0d49c18>, <folium.vector_layers.CircleMarker object at 0x7ff8a0d49ba8>, <folium.vector_layers.CircleMarker object at 0x7ff8a0d49b70>, <folium.vector_layers.CircleMarker object at 0x7ff8a0d49b38>, <folium.vector_layers.CircleMarker object at 0x7ff8a0d49b00>, <folium.vector_layers.CircleMarker object at 0x7ff8a0d49d30>, <folium.vector_layers.CircleMarker object at 0x7ff8a0d49cf8>, <folium.vector_layers.CircleMarker object at 0x7ff8a0d49cc0>, <folium.vector_layers.CircleMarker object at 0x7ff8a0d49c88>, <folium.vector_layers.CircleMarker object at 0x7ff8a0d49c50>, <folium.vector_layers.CircleMarker object at 0x7ff8a0d49e48>, <folium.vector_layers.CircleMarker object at 0x7ff8a0d49dd8>, <folium.vector_layers.CircleMarker object at 0x7ff8a0d49da0>, <folium.vector_layers.CircleMarker object at 0x7ff8a0d49d68>, <folium.vector_layers.CircleMarker object at 0x7ff8a0d49f28>, <folium.vector_layers.CircleMarker object at 0x7ff8a0d49ef0>, <folium.vector_layers.CircleMarker object at 0x7ff8a0d49eb8>, <folium.vector_layers.CircleMarker object at 0x7ff8a0d49e80>, <folium.vector_layers.CircleMarker object at 0x7ff8a0d49fd0>, <folium.vector_layers.CircleMarker object at 0x7ff8a0d49f98>, <folium.vector_layers.CircleMarker object at 0x7ff8a0d49f60>, <folium.vector_layers.CircleMarker object at 0x7ff8a0d492e8>, <folium.vector_layers.CircleMarker object at 0x7ff8a0d561d0>, <folium.vector_layers.CircleMarker object at 0x7ff8a0d56470>, <folium.vector_layers.CircleMarker object at 0x7ff8a0d56c88>, <folium.vector_layers.CircleMarker object at 0x7ff8a0d56da0>, <folium.vector_layers.CircleMarker object at 0x7ff8a0d56ef0>, <folium.vector_layers.CircleMarker object at 0x7ff8a0d560f0>, <folium.vector_layers.CircleMarker object at 0x7ff8a0d56080>, <folium.vector_layers.CircleMarker object at 0x7ff8a0d56048>, <folium.vector_layers.CircleMarker object at 0x7ff8a0d56208>, <folium.vector_layers.CircleMarker object at 0x7ff8a0d56198>, <folium.vector_layers.CircleMarker object at 0x7ff8a0d56160>, <folium.vector_layers.CircleMarker object at 0x7ff8a0d56128>, <folium.vector_layers.CircleMarker object at 0x7ff8a0d56320>, <folium.vector_layers.CircleMarker object at 0x7ff8a0d562e8>, <folium.vector_layers.CircleMarker object at 0x7ff8a0d562b0>, <folium.vector_layers.CircleMarker object at 0x7ff8a0d56278>, <folium.vector_layers.CircleMarker object at 0x7ff8a0d56240>, <folium.vector_layers.CircleMarker object at 0x7ff8a0d564a8>, <folium.vector_layers.CircleMarker object at 0x7ff8a0d56438>, <folium.vector_layers.CircleMarker object at 0x7ff8a0d56400>, <folium.vector_layers.CircleMarker object at 0x7ff8a0d563c8>, <folium.vector_layers.CircleMarker object at 0x7ff8a0d56390>, <folium.vector_layers.CircleMarker object at 0x7ff8a0d56358>, <folium.vector_layers.CircleMarker object at 0x7ff8a0d565f8>, <folium.vector_layers.CircleMarker object at 0x7ff8a0d565c0>, <folium.vector_layers.CircleMarker object at 0x7ff8a0d56588>, <folium.vector_layers.CircleMarker object at 0x7ff8a0d56550>, <folium.vector_layers.CircleMarker object at 0x7ff8a0d56518>, <folium.vector_layers.CircleMarker object at 0x7ff8a0d564e0>, <folium.vector_layers.CircleMarker object at 0x7ff8a0d566d8>, <folium.vector_layers.CircleMarker object at 0x7ff8a0d566a0>, <folium.vector_layers.CircleMarker object at 0x7ff8a0d56668>, <folium.vector_layers.CircleMarker object at 0x7ff8a0d56630>, <folium.vector_layers.CircleMarker object at 0x7ff8a0d567b8>, <folium.vector_layers.CircleMarker object at 0x7ff8a0d56780>, <folium.vector_layers.CircleMarker object at 0x7ff8a0d56748>, <folium.vector_layers.CircleMarker object at 0x7ff8a0d56710>, <folium.vector_layers.CircleMarker object at 0x7ff8a0d56908>, <folium.vector_layers.CircleMarker object at 0x7ff8a0d568d0>, <folium.vector_layers.CircleMarker object at 0x7ff8a0d56898>, <folium.vector_layers.CircleMarker object at 0x7ff8a0d56860>, <folium.vector_layers.CircleMarker object at 0x7ff8a0d56828>, <folium.vector_layers.CircleMarker object at 0x7ff8a0d567f0>, <folium.vector_layers.CircleMarker object at 0x7ff8a0d56a58>, <folium.vector_layers.CircleMarker object at 0x7ff8a0d56a20>, <folium.vector_layers.CircleMarker object at 0x7ff8a0d569e8>, <folium.vector_layers.CircleMarker object at 0x7ff8a0d569b0>, <folium.vector_layers.CircleMarker object at 0x7ff8a0d56978>, <folium.vector_layers.CircleMarker object at 0x7ff8a0d56940>, <folium.vector_layers.CircleMarker object at 0x7ff8a0d56b70>, <folium.vector_layers.CircleMarker object at 0x7ff8a0d56b38>, <folium.vector_layers.CircleMarker object at 0x7ff8a0d56b00>, <folium.vector_layers.CircleMarker object at 0x7ff8a0d56ac8>, <folium.vector_layers.CircleMarker object at 0x7ff8a0d56a90>, <folium.vector_layers.CircleMarker object at 0x7ff8a0d56cc0>, <folium.vector_layers.CircleMarker object at 0x7ff8a0d56c50>, <folium.vector_layers.CircleMarker object at 0x7ff8a0d56c18>, <folium.vector_layers.CircleMarker object at 0x7ff8a0d56be0>, <folium.vector_layers.CircleMarker object at 0x7ff8a0d56ba8>, <folium.vector_layers.CircleMarker object at 0x7ff8a0d56dd8>, <folium.vector_layers.CircleMarker object at 0x7ff8a0d56d68>, <folium.vector_layers.CircleMarker object at 0x7ff8a0d56d30>, <folium.vector_layers.CircleMarker object at 0x7ff8a0d56cf8>, <folium.vector_layers.CircleMarker object at 0x7ff8a0d56f28>, <folium.vector_layers.CircleMarker object at 0x7ff8a0d56eb8>, <folium.vector_layers.CircleMarker object at 0x7ff8a0d56e80>, <folium.vector_layers.CircleMarker object at 0x7ff8a0d56e48>, <folium.vector_layers.CircleMarker object at 0x7ff8a0d56e10>, <folium.vector_layers.CircleMarker object at 0x7ff8a0d56fd0>, <folium.vector_layers.CircleMarker object at 0x7ff8a0d56f98>, <folium.vector_layers.CircleMarker object at 0x7ff8a0d56f60>, <folium.vector_layers.CircleMarker object at 0x7ff8a0d560b8>, <folium.vector_layers.CircleMarker object at 0x7ff8a0d63080>, <folium.vector_layers.CircleMarker object at 0x7ff8a0d630b8>, <folium.vector_layers.CircleMarker object at 0x7ff8a0d630f0>, <folium.vector_layers.CircleMarker object at 0x7ff8a0d63128>, <folium.vector_layers.CircleMarker object at 0x7ff8a0d63160>, <folium.vector_layers.CircleMarker object at 0x7ff8a0d63198>, <folium.vector_layers.CircleMarker object at 0x7ff8a0d631d0>, <folium.vector_layers.CircleMarker object at 0x7ff8a0d63208>, <folium.vector_layers.CircleMarker object at 0x7ff8a0d63240>, <folium.vector_layers.CircleMarker object at 0x7ff8a0d63278>, <folium.vector_layers.CircleMarker object at 0x7ff8a0d632b0>, <folium.vector_layers.CircleMarker object at 0x7ff8a0d632e8>, <folium.vector_layers.CircleMarker object at 0x7ff8a0d63320>, <folium.vector_layers.CircleMarker object at 0x7ff8a0d63358>, <folium.vector_layers.CircleMarker object at 0x7ff8a0d63390>, <folium.vector_layers.CircleMarker object at 0x7ff8a0d633c8>, <folium.vector_layers.CircleMarker object at 0x7ff8a0d63400>, <folium.vector_layers.CircleMarker object at 0x7ff8a0d63438>, <folium.vector_layers.CircleMarker object at 0x7ff8a0d63470>, <folium.vector_layers.CircleMarker object at 0x7ff8a0d634a8>, <folium.vector_layers.CircleMarker object at 0x7ff8a0d634e0>, <folium.vector_layers.CircleMarker object at 0x7ff8a0d63518>, <folium.vector_layers.CircleMarker object at 0x7ff8a0d63550>, <folium.vector_layers.CircleMarker object at 0x7ff8a0d63588>, <folium.vector_layers.CircleMarker object at 0x7ff8a0d635c0>, <folium.vector_layers.CircleMarker object at 0x7ff8a0d635f8>, <folium.vector_layers.CircleMarker object at 0x7ff8a0d63630>, <folium.vector_layers.CircleMarker object at 0x7ff8a0d63668>, <folium.vector_layers.CircleMarker object at 0x7ff8a0d636a0>, <folium.vector_layers.CircleMarker object at 0x7ff8a0d636d8>, <folium.vector_layers.CircleMarker object at 0x7ff8a0d63710>, <folium.vector_layers.CircleMarker object at 0x7ff8a0d63748>, <folium.vector_layers.CircleMarker object at 0x7ff8a0d63780>, <folium.vector_layers.CircleMarker object at 0x7ff8a0d637b8>, <folium.vector_layers.CircleMarker object at 0x7ff8a0d637f0>, <folium.vector_layers.CircleMarker object at 0x7ff8a0d63828>, <folium.vector_layers.CircleMarker object at 0x7ff8a0d63860>, <folium.vector_layers.CircleMarker object at 0x7ff8a0d63898>, <folium.vector_layers.CircleMarker object at 0x7ff8a0d638d0>, <folium.vector_layers.CircleMarker object at 0x7ff8a0d63908>, <folium.vector_layers.CircleMarker object at 0x7ff8a0d63940>, <folium.vector_layers.CircleMarker object at 0x7ff8a0d63978>, <folium.vector_layers.CircleMarker object at 0x7ff8a0d639b0>, <folium.vector_layers.CircleMarker object at 0x7ff8a0d639e8>, <folium.vector_layers.CircleMarker object at 0x7ff8a0d63a20>, <folium.vector_layers.CircleMarker object at 0x7ff8a0d63a58>, <folium.vector_layers.CircleMarker object at 0x7ff8a0d63a90>, <folium.vector_layers.CircleMarker object at 0x7ff8a0d63ac8>, <folium.vector_layers.CircleMarker object at 0x7ff8a0d63b00>, <folium.vector_layers.CircleMarker object at 0x7ff8a0d63b38>, <folium.vector_layers.CircleMarker object at 0x7ff8a0d63b70>, <folium.vector_layers.CircleMarker object at 0x7ff8a0d63ba8>, <folium.vector_layers.CircleMarker object at 0x7ff8a0d63be0>, <folium.vector_layers.CircleMarker object at 0x7ff8a0d63c18>, <folium.vector_layers.CircleMarker object at 0x7ff8a0d63c50>, <folium.vector_layers.CircleMarker object at 0x7ff8a0d63c88>, <folium.vector_layers.CircleMarker object at 0x7ff8a0d63cc0>, <folium.vector_layers.CircleMarker object at 0x7ff8a0d63cf8>, <folium.vector_layers.CircleMarker object at 0x7ff8a0d63d30>, <folium.vector_layers.CircleMarker object at 0x7ff8a0d63d68>, <folium.vector_layers.CircleMarker object at 0x7ff8a0d63da0>, <folium.vector_layers.CircleMarker object at 0x7ff8a0d63dd8>, <folium.vector_layers.CircleMarker object at 0x7ff8a0d63e10>, <folium.vector_layers.CircleMarker object at 0x7ff8a0d63e48>, <folium.vector_layers.CircleMarker object at 0x7ff8a0d63e80>, <folium.vector_layers.CircleMarker object at 0x7ff8a0d63eb8>, <folium.vector_layers.CircleMarker object at 0x7ff8a0d63ef0>, <folium.vector_layers.CircleMarker object at 0x7ff8a0d63f28>, <folium.vector_layers.CircleMarker object at 0x7ff8a0d63f60>, <folium.vector_layers.CircleMarker object at 0x7ff8a0d63f98>, <folium.vector_layers.CircleMarker object at 0x7ff8a0d63fd0>, <folium.vector_layers.CircleMarker object at 0x7ff8a0d63048>, <folium.vector_layers.CircleMarker object at 0x7ff8a0cf2048>, <folium.vector_layers.CircleMarker object at 0x7ff8a0cf20b8>, <folium.vector_layers.CircleMarker object at 0x7ff8a0cf20f0>, <folium.vector_layers.CircleMarker object at 0x7ff8a0cf2128>, <folium.vector_layers.CircleMarker object at 0x7ff8a0cf2160>, <folium.vector_layers.CircleMarker object at 0x7ff8a0cf2198>, <folium.vector_layers.CircleMarker object at 0x7ff8a0cf21d0>, <folium.vector_layers.CircleMarker object at 0x7ff8a0cf2208>, <folium.vector_layers.CircleMarker object at 0x7ff8a0cf2240>, <folium.vector_layers.CircleMarker object at 0x7ff8a0cf2278>, <folium.vector_layers.CircleMarker object at 0x7ff8a0cf22b0>, <folium.vector_layers.CircleMarker object at 0x7ff8a0cf22e8>, <folium.vector_layers.CircleMarker object at 0x7ff8a0cf2320>, <folium.vector_layers.CircleMarker object at 0x7ff8a0cf2358>, <folium.vector_layers.CircleMarker object at 0x7ff8a0cf2390>, <folium.vector_layers.CircleMarker object at 0x7ff8a0cf23c8>, <folium.vector_layers.CircleMarker object at 0x7ff8a0cf2400>, <folium.vector_layers.CircleMarker object at 0x7ff8a0cf2438>, <folium.vector_layers.CircleMarker object at 0x7ff8a0cf2470>, <folium.vector_layers.CircleMarker object at 0x7ff8a0cf24a8>, <folium.vector_layers.CircleMarker object at 0x7ff8a0cf24e0>, <folium.vector_layers.CircleMarker object at 0x7ff8a0cf2518>, <folium.vector_layers.CircleMarker object at 0x7ff8a0cf2550>, <folium.vector_layers.CircleMarker object at 0x7ff8a0cf2588>, <folium.vector_layers.CircleMarker object at 0x7ff8a0cf25c0>, <folium.vector_layers.CircleMarker object at 0x7ff8a0cf25f8>, <folium.vector_layers.CircleMarker object at 0x7ff8a0cf2630>, <folium.vector_layers.CircleMarker object at 0x7ff8a0cf2668>, <folium.vector_layers.CircleMarker object at 0x7ff8a0cf26a0>, <folium.vector_layers.CircleMarker object at 0x7ff8a0cf26d8>, <folium.vector_layers.CircleMarker object at 0x7ff8a0cf2710>, <folium.vector_layers.CircleMarker object at 0x7ff8a0cf2748>, <folium.vector_layers.CircleMarker object at 0x7ff8a0cf2780>, <folium.vector_layers.CircleMarker object at 0x7ff8a0cf27b8>, <folium.vector_layers.CircleMarker object at 0x7ff8a0cf27f0>, <folium.vector_layers.CircleMarker object at 0x7ff8a0cf2828>, <folium.vector_layers.CircleMarker object at 0x7ff8a0cf2860>, <folium.vector_layers.CircleMarker object at 0x7ff8a0cf2898>, <folium.vector_layers.CircleMarker object at 0x7ff8a0cf28d0>, <folium.vector_layers.CircleMarker object at 0x7ff8a0cf2908>, <folium.vector_layers.CircleMarker object at 0x7ff8a0cf2940>, <folium.vector_layers.CircleMarker object at 0x7ff8a0cf2978>, <folium.vector_layers.CircleMarker object at 0x7ff8a0cf29b0>, <folium.vector_layers.CircleMarker object at 0x7ff8a0cf29e8>, <folium.vector_layers.CircleMarker object at 0x7ff8a0cf2a20>, <folium.vector_layers.CircleMarker object at 0x7ff8a0cf2a58>, <folium.vector_layers.CircleMarker object at 0x7ff8a0cf2a90>, <folium.vector_layers.CircleMarker object at 0x7ff8a0cf2ac8>, <folium.vector_layers.CircleMarker object at 0x7ff8a0cf2b00>, <folium.vector_layers.CircleMarker object at 0x7ff8a0cf2b38>, <folium.vector_layers.CircleMarker object at 0x7ff8a0cf2b70>, <folium.vector_layers.CircleMarker object at 0x7ff8a0cf2ba8>, <folium.vector_layers.CircleMarker object at 0x7ff8a0cf2be0>, <folium.vector_layers.CircleMarker object at 0x7ff8a0cf2c18>, <folium.vector_layers.CircleMarker object at 0x7ff8a0cf2c50>, <folium.vector_layers.CircleMarker object at 0x7ff8a0cf2c88>, <folium.vector_layers.CircleMarker object at 0x7ff8a0cf2cc0>, <folium.vector_layers.CircleMarker object at 0x7ff8a0cf2cf8>, <folium.vector_layers.CircleMarker object at 0x7ff8a0cf2d30>, <folium.vector_layers.CircleMarker object at 0x7ff8a0cf2d68>, <folium.vector_layers.CircleMarker object at 0x7ff8a0cf2da0>, <folium.vector_layers.CircleMarker object at 0x7ff8a0cf2dd8>, <folium.vector_layers.CircleMarker object at 0x7ff8a0cf2e10>, <folium.vector_layers.CircleMarker object at 0x7ff8a0cf2e48>, <folium.vector_layers.CircleMarker object at 0x7ff8a0cf2e80>, <folium.vector_layers.CircleMarker object at 0x7ff8a0cf2eb8>, <folium.vector_layers.CircleMarker object at 0x7ff8a0cf2ef0>, <folium.vector_layers.CircleMarker object at 0x7ff8a0cf2f28>, <folium.vector_layers.CircleMarker object at 0x7ff8a0cf2f60>, <folium.vector_layers.CircleMarker object at 0x7ff8a0cf2f98>, <folium.vector_layers.CircleMarker object at 0x7ff8a0cf2fd0>, <folium.vector_layers.CircleMarker object at 0x7ff8a0cf2080>, <folium.vector_layers.CircleMarker object at 0x7ff8a0cfe080>, <folium.vector_layers.CircleMarker object at 0x7ff8a0cfe0b8>, <folium.vector_layers.CircleMarker object at 0x7ff8a0cfe0f0>, <folium.vector_layers.CircleMarker object at 0x7ff8a0cfe128>, <folium.vector_layers.CircleMarker object at 0x7ff8a0cfe160>, <folium.vector_layers.CircleMarker object at 0x7ff8a0cfe198>, <folium.vector_layers.CircleMarker object at 0x7ff8a0cfe1d0>, <folium.vector_layers.CircleMarker object at 0x7ff8a0cfe208>, <folium.vector_layers.CircleMarker object at 0x7ff8a0cfe240>, <folium.vector_layers.CircleMarker object at 0x7ff8a0cfe278>, <folium.vector_layers.CircleMarker object at 0x7ff8a0cfe2b0>, <folium.vector_layers.CircleMarker object at 0x7ff8a0cfe2e8>, <folium.vector_layers.CircleMarker object at 0x7ff8a0cfe320>, <folium.vector_layers.CircleMarker object at 0x7ff8a0cfe358>, <folium.vector_layers.CircleMarker object at 0x7ff8a0cfe390>, <folium.vector_layers.CircleMarker object at 0x7ff8a0cfe3c8>, <folium.vector_layers.CircleMarker object at 0x7ff8a0cfe400>, <folium.vector_layers.CircleMarker object at 0x7ff8a0cfe438>, <folium.vector_layers.CircleMarker object at 0x7ff8a0cfe470>, <folium.vector_layers.CircleMarker object at 0x7ff8a0cfe4a8>, <folium.vector_layers.CircleMarker object at 0x7ff8a0cfe4e0>, <folium.vector_layers.CircleMarker object at 0x7ff8a0cfe518>, <folium.vector_layers.CircleMarker object at 0x7ff8a0cfe550>, <folium.vector_layers.CircleMarker object at 0x7ff8a0cfe588>, <folium.vector_layers.CircleMarker object at 0x7ff8a0cfe5c0>, <folium.vector_layers.CircleMarker object at 0x7ff8a0cfe5f8>, <folium.vector_layers.CircleMarker object at 0x7ff8a0cfe630>, <folium.vector_layers.CircleMarker object at 0x7ff8a0cfe668>, <folium.vector_layers.CircleMarker object at 0x7ff8a0cfe6a0>, <folium.vector_layers.CircleMarker object at 0x7ff8a0cfe6d8>, <folium.vector_layers.CircleMarker object at 0x7ff8a0cfe710>, <folium.vector_layers.CircleMarker object at 0x7ff8a0cfe748>, <folium.vector_layers.CircleMarker object at 0x7ff8a0cfe780>, <folium.vector_layers.CircleMarker object at 0x7ff8a0cfe7b8>, <folium.vector_layers.CircleMarker object at 0x7ff8a0cfe7f0>, <folium.vector_layers.CircleMarker object at 0x7ff8a0cfe828>, <folium.vector_layers.CircleMarker object at 0x7ff8a0cfe860>, <folium.vector_layers.CircleMarker object at 0x7ff8a0cfe898>, <folium.vector_layers.CircleMarker object at 0x7ff8a0cfe8d0>, <folium.vector_layers.CircleMarker object at 0x7ff8a0cfe908>, <folium.vector_layers.CircleMarker object at 0x7ff8a0cfe940>, <folium.vector_layers.CircleMarker object at 0x7ff8a0cfe978>, <folium.vector_layers.CircleMarker object at 0x7ff8a0cfe9b0>, <folium.vector_layers.CircleMarker object at 0x7ff8a0cfe9e8>, <folium.vector_layers.CircleMarker object at 0x7ff8a0cfea20>, <folium.vector_layers.CircleMarker object at 0x7ff8a0cfea58>, <folium.vector_layers.CircleMarker object at 0x7ff8a0cfea90>, <folium.vector_layers.CircleMarker object at 0x7ff8a0cfeac8>, <folium.vector_layers.CircleMarker object at 0x7ff8a0cfeb00>, <folium.vector_layers.CircleMarker object at 0x7ff8a0cfeb38>, <folium.vector_layers.CircleMarker object at 0x7ff8a0cfeb70>, <folium.vector_layers.CircleMarker object at 0x7ff8a0cfeba8>, <folium.vector_layers.CircleMarker object at 0x7ff8a0cfebe0>, <folium.vector_layers.CircleMarker object at 0x7ff8a0cfec18>, <folium.vector_layers.CircleMarker object at 0x7ff8a0cfec50>, <folium.vector_layers.CircleMarker object at 0x7ff8a0cfec88>, <folium.vector_layers.CircleMarker object at 0x7ff8a0cfecc0>, <folium.vector_layers.CircleMarker object at 0x7ff8a0cfecf8>, <folium.vector_layers.CircleMarker object at 0x7ff8a0cfed30>, <folium.vector_layers.CircleMarker object at 0x7ff8a0cfed68>, <folium.vector_layers.CircleMarker object at 0x7ff8a0cfeda0>, <folium.vector_layers.CircleMarker object at 0x7ff8a0cfedd8>, <folium.vector_layers.CircleMarker object at 0x7ff8a0cfee10>, <folium.vector_layers.CircleMarker object at 0x7ff8a0cfee48>, <folium.vector_layers.CircleMarker object at 0x7ff8a0cfee80>, <folium.vector_layers.CircleMarker object at 0x7ff8a0cfeeb8>, <folium.vector_layers.CircleMarker object at 0x7ff8a0cfeef0>, <folium.vector_layers.CircleMarker object at 0x7ff8a0cfef28>, <folium.vector_layers.CircleMarker object at 0x7ff8a0cfef60>, <folium.vector_layers.CircleMarker object at 0x7ff8a0cfef98>, <folium.vector_layers.CircleMarker object at 0x7ff8a0cfefd0>]\n"
     ]
    }
   ],
   "source": [
    "map_with"
   ]
  },
  {
   "cell_type": "code",
   "execution_count": 86,
   "metadata": {},
   "outputs": [],
   "source": [
    "def add_markers(markers, map_obj):\n",
    "    for marker in markers: marker.add_to(map_obj)\n",
    "    return(map_obj)"
   ]
  },
  {
   "cell_type": "code",
   "execution_count": 87,
   "metadata": {
    "scrolled": false
   },
   "outputs": [],
   "source": [
    "map_with_markers = add_markers(trip_markers, manhattan_map)"
   ]
  },
  {
   "cell_type": "code",
   "execution_count": null,
   "metadata": {},
   "outputs": [],
   "source": [
    "map_with_markers"
   ]
  },
  {
   "cell_type": "markdown",
   "metadata": {},
   "source": [
    "### Using Nearest Neighbors"
   ]
  },
  {
   "cell_type": "markdown",
   "metadata": {},
   "source": [
    "Ok, let's write a function that given a latitude and longitude will predict the distance for us.  We'll do this by first finding the nearest trips given a latitude and longitude. "
   ]
  },
  {
   "cell_type": "markdown",
   "metadata": {},
   "source": [
    "Here we once again apply the nearest neighbors formula. As a first step, write a function named `distance_location` that calculates the distance in pickup location between two trips."
   ]
  },
  {
   "cell_type": "code",
   "execution_count": 33,
   "metadata": {},
   "outputs": [],
   "source": [
    "import math\n",
    "\n",
    "def distance_location(selected_trip, neighbor_trip):\n",
    "    return(\n",
    "    math.sqrt((selected_trip['pickup_latitude']-neighbor_trip['pickup_latitude'])**2+(selected_trip['pickup_longitude']-neighbor_trip['pickup_longitude'])**2))"
   ]
  },
  {
   "cell_type": "code",
   "execution_count": 49,
   "metadata": {},
   "outputs": [
    {
     "data": {
      "text/plain": [
       "0.235"
      ]
     },
     "execution_count": 49,
     "metadata": {},
     "output_type": "execute_result"
    }
   ],
   "source": [
    "first_trip = {'pickup_latitude': 40.64499, 'pickup_longitude': -73.78115, 'trip_distance': 18.38}\n",
    "second_trip = {'pickup_latitude': 40.766931, 'pickup_longitude': -73.982098, 'trip_distance': 1.3}\n",
    "distance_first_and_second = distance_location(first_trip, second_trip)\n",
    "\n",
    "distance_first_and_second and round(distance_first_and_second, 3) # 0.235"
   ]
  },
  {
   "cell_type": "markdown",
   "metadata": {},
   "source": [
    "Ok, next write a function called `distance_between_neighbors` that adds a new key-value pair, called `distance_from_selected`, that calculates the distance of the `neighbor_trip` from the `selected_trip`."
   ]
  },
  {
   "cell_type": "code",
   "execution_count": 50,
   "metadata": {},
   "outputs": [],
   "source": [
    "def distance_between_neighbors(selected_trip, neighbor_trip):\n",
    "    selected_trip['distance_from_selected']=distance_location(selected_trip,neighbor_trip)\n",
    "    return(\n",
    "    selected_trip\n",
    "    )"
   ]
  },
  {
   "cell_type": "code",
   "execution_count": 48,
   "metadata": {},
   "outputs": [
    {
     "data": {
      "text/plain": [
       "{'pickup_latitude': 40.64499,\n",
       " 'pickup_longitude': -73.78115,\n",
       " 'trip_distance': 18.38,\n",
       " 'distance_from_selected': 0.23505256047318146}"
      ]
     },
     "execution_count": 48,
     "metadata": {},
     "output_type": "execute_result"
    }
   ],
   "source": [
    "\n",
    "distance_between_neighbors(first_trip, second_trip)\n",
    "\n",
    "# {'distance_from_selected': 0.23505256047318146,\n",
    "#  'pickup_latitude': 40.766931,\n",
    "#  'pickup_longitude': -73.982098,\n",
    "#  'trip_distance': 1.3}"
   ]
  },
  {
   "cell_type": "markdown",
   "metadata": {},
   "source": [
    "Ok, now our `neighbor_trip` has another attribute called `distance_from_selected`, that indicates the distance from the `neighbor_trip`'s pickup location from the `selected_trip`."
   ]
  },
  {
   "cell_type": "markdown",
   "metadata": {},
   "source": [
    "> ** Understand the data:** Our dictionary now has a few attributes, two of which say distance.  Let's make sure we understand the difference. \n",
    "> * **`distance_from_selected`:** This is our calculation of the distance of the neighbor's pickup location from the selected trip.\n",
    "> * **`trip_distance`:** This is the attribute we were provided initially.  It tells us the length of the neighbor's taxi trip from pickup to drop-off.  "
   ]
  },
  {
   "cell_type": "markdown",
   "metadata": {},
   "source": [
    "Next, write a function called `distance_all` that provided a list of neighbors, returns each of those neighbors with their respective `distance_from_selected` numbers."
   ]
  },
  {
   "cell_type": "code",
   "execution_count": 37,
   "metadata": {},
   "outputs": [],
   "source": [
    "def distance_all(selected_individual, neighbors):\n",
    "    return list(map(lambda neighbor: distance_between_neighbors(selected_individual,neighbor),neighbors))"
   ]
  },
  {
   "cell_type": "code",
   "execution_count": 38,
   "metadata": {},
   "outputs": [
    {
     "data": {
      "text/plain": [
       "[{'pickup_latitude': 40.64499,\n",
       "  'pickup_longitude': -73.78115,\n",
       "  'trip_distance': 18.38,\n",
       "  'distance_from_selected': 0.24242215976473674},\n",
       " {'pickup_latitude': 40.64499,\n",
       "  'pickup_longitude': -73.78115,\n",
       "  'trip_distance': 18.38,\n",
       "  'distance_from_selected': 0.24242215976473674},\n",
       " {'pickup_latitude': 40.64499,\n",
       "  'pickup_longitude': -73.78115,\n",
       "  'trip_distance': 18.38,\n",
       "  'distance_from_selected': 0.24242215976473674},\n",
       " {'pickup_latitude': 40.64499,\n",
       "  'pickup_longitude': -73.78115,\n",
       "  'trip_distance': 18.38,\n",
       "  'distance_from_selected': 0.24242215976473674}]"
      ]
     },
     "execution_count": 38,
     "metadata": {},
     "output_type": "execute_result"
    }
   ],
   "source": [
    "cleaned_trips and distance_all(first_trip, cleaned_trips[0:4])"
   ]
  },
  {
   "cell_type": "markdown",
   "metadata": {},
   "source": [
    "Now write the nearest neighbors formula to calculate the distance of the `selected_trip` from all of the `cleaned_trips` in our dataset.  If no number is provided, it should return the top 3 neighbors."
   ]
  },
  {
   "cell_type": "code",
   "execution_count": 56,
   "metadata": {},
   "outputs": [],
   "source": [
    "def nearest_neighbors(selected_trip, trips, number = 3):\n",
    "    distance_all(selected_trip,trips).sort(key=lambda results: results['distance_from_selected'])\n",
    "    \n",
    "    return(\n",
    "    sorted(distance_all(selected_trip,trips),key=lambda results: results['distance_from_selected'])[0:number]\n",
    "    )\n"
   ]
  },
  {
   "cell_type": "code",
   "execution_count": 57,
   "metadata": {},
   "outputs": [
    {
     "name": "stdout",
     "output_type": "stream",
     "text": [
      "[{'trip_distance': 18.38, 'pickup_latitude': 40.64499, 'pickup_longitude': -73.78115}, {'trip_distance': 1.3, 'pickup_latitude': 40.766931, 'pickup_longitude': -73.982098}, {'trip_distance': 4.5, 'pickup_latitude': 40.77773, 'pickup_longitude': -73.951902}, {'trip_distance': 2.4, 'pickup_latitude': 40.795678, 'pickup_longitude': -73.971049}]\n",
      "----\n",
      "[{'pickup_latitude': 40.64499, 'pickup_longitude': -73.78115, 'trip_distance': 18.38, 'distance_from_selected': 0.2425285787778478}, {'pickup_latitude': 40.64499, 'pickup_longitude': -73.78115, 'trip_distance': 18.38, 'distance_from_selected': 0.2425285787778478}, {'pickup_latitude': 40.64499, 'pickup_longitude': -73.78115, 'trip_distance': 18.38, 'distance_from_selected': 0.2425285787778478}]\n"
     ]
    }
   ],
   "source": [
    "print(cleaned_trips[0:4])\n",
    "print('----')\n",
    "new_trip = {'pickup_latitude': 40.64499,\n",
    "'pickup_longitude': -73.78115,\n",
    "'trip_distance': 18.38}\n",
    "\n",
    "nearest_three_neighbors = nearest_neighbors(new_trip, cleaned_trips or [], number = 3)\n",
    "print(nearest_three_neighbors)\n",
    "\n",
    "\n",
    "# [{'distance_from_selected': 0.0004569288784918792,\n",
    "#   'pickup_latitude': 40.64483,\n",
    "#   'pickup_longitude': -73.781578,\n",
    "#   'trip_distance': 7.78},\n",
    "#  {'distance_from_selected': 0.0011292165425673159,\n",
    "#   'pickup_latitude': 40.644657,\n",
    "#   'pickup_longitude': -73.782229,\n",
    "#   'trip_distance': 12.7},\n",
    "#  {'distance_from_selected': 0.0042359798158141185,\n",
    "#   'pickup_latitude': 40.648509,\n",
    "#   'pickup_longitude': -73.783508,\n",
    "#   'trip_distance': 17.3}]"
   ]
  },
  {
   "cell_type": "markdown",
   "metadata": {},
   "source": [
    "Ok great! Now that we can provide a new trip location, and find the distances of the three nearest trips, we can take  calculate an estimate of the trip distance for that new trip location.  \n",
    "\n",
    "We do so simply by calculating the average of it's nearest neighbors."
   ]
  },
  {
   "cell_type": "code",
   "execution_count": 45,
   "metadata": {},
   "outputs": [
    {
     "data": {
      "text/plain": [
       "18.38"
      ]
     },
     "execution_count": 45,
     "metadata": {},
     "output_type": "execute_result"
    }
   ],
   "source": [
    "import statistics\n",
    "def mean_distance(neighbors):\n",
    "    nearest_distances = list(map(lambda neighbor: neighbor['trip_distance'], neighbors))\n",
    "    return round(statistics.mean(nearest_distances), 3)\n",
    "\n",
    "nearest_three_neighbors = nearest_neighbors(new_trip, cleaned_trips or [], number = 3)\n",
    "distance_estimate_of_selected_trip = mean_distance(nearest_three_neighbors) # 12.593\n",
    "distance_estimate_of_selected_trip"
   ]
  },
  {
   "cell_type": "markdown",
   "metadata": {},
   "source": [
    "### Choosing the correct number of neighbors"
   ]
  },
  {
   "cell_type": "markdown",
   "metadata": {},
   "source": [
    "Now, as we know from the last lesson, one tricky element is to determine how many neighbors to choose, our $k$ value,  before calculating the average.  We want to choose our value of $k$ such that it properly matches actual data, and so that it applies to new data.  There are fancy formulas to ensure that we **train** our algorithm so that our formula is optimized for all data, but here let's see different $k$ values manually.  This is the gist of choosing our $k$ value:\n",
    "\n",
    "* If we choose a $k$ value too low, our formula will be too heavily influenced by a single neighbor, whereas if our $k$ value is too high, we will be choosing so many neighbors that our nearest neighbors formula will not be adjust enough according to locations.\n",
    "\n",
    "Ok, let's experiment with this."
   ]
  },
  {
   "cell_type": "markdown",
   "metadata": {},
   "source": [
    "First, let's choose a midtown location, to see what the trip distance would be.  A Google search reveals the coordinates of 51st and 7th avenue to be the following."
   ]
  },
  {
   "cell_type": "code",
   "execution_count": 42,
   "metadata": {},
   "outputs": [],
   "source": [
    "midtown_trip = dict(pickup_latitude=40.761710, pickup_longitude=-73.982760)"
   ]
  },
  {
   "cell_type": "code",
   "execution_count": 54,
   "metadata": {},
   "outputs": [
    {
     "data": {
      "text/plain": [
       "[{'pickup_latitude': 40.76171,\n",
       "  'pickup_longitude': -73.98276,\n",
       "  'distance_from_selected': 0.02597364710624614},\n",
       " {'pickup_latitude': 40.76171,\n",
       "  'pickup_longitude': -73.98276,\n",
       "  'distance_from_selected': 0.02597364710624614},\n",
       " {'pickup_latitude': 40.76171,\n",
       "  'pickup_longitude': -73.98276,\n",
       "  'distance_from_selected': 0.02597364710624614},\n",
       " {'pickup_latitude': 40.76171,\n",
       "  'pickup_longitude': -73.98276,\n",
       "  'distance_from_selected': 0.02597364710624614},\n",
       " {'pickup_latitude': 40.76171,\n",
       "  'pickup_longitude': -73.98276,\n",
       "  'distance_from_selected': 0.02597364710624614},\n",
       " {'pickup_latitude': 40.76171,\n",
       "  'pickup_longitude': -73.98276,\n",
       "  'distance_from_selected': 0.02597364710624614},\n",
       " {'pickup_latitude': 40.76171,\n",
       "  'pickup_longitude': -73.98276,\n",
       "  'distance_from_selected': 0.02597364710624614}]"
      ]
     },
     "execution_count": 54,
     "metadata": {},
     "output_type": "execute_result"
    }
   ],
   "source": [
    "seven_closest = nearest_neighbors(midtown_trip, cleaned_trips, number = 7)\n",
    "seven_closest\n",
    "# [{'trip_distance': 0.58,\n",
    "#   'pickup_latitude': 40.761372,\n",
    "#   'pickup_longitude': -73.982602,\n",
    "#   'distance_from_selected': 0.00037310588309379025},\n",
    "#  {'trip_distance': 0.8,\n",
    "#   'pickup_latitude': 40.762444,\n",
    "#   'pickup_longitude': -73.98244,\n",
    "#   'distance_from_selected': 0.00080072217404248},\n",
    "#  {'trip_distance': 1.4,\n",
    "#   'pickup_latitude': 40.762767,\n",
    "#   'pickup_longitude': -73.982293,\n",
    "#   'distance_from_selected': 0.0011555682584735844},\n",
    "#  {'trip_distance': 8.3,\n",
    "#   'pickup_latitude': 40.762868,\n",
    "#   'pickup_longitude': -73.983233,\n",
    "#   'distance_from_selected': 0.0012508768924205918},\n",
    "#  {'trip_distance': 1.26,\n",
    "#   'pickup_latitude': 40.760057,\n",
    "#   'pickup_longitude': -73.983502,\n",
    "#   'distance_from_selected': 0.0018118976240381972},\n",
    "#  {'trip_distance': 0.0,\n",
    "#   'pickup_latitude': 40.760644,\n",
    "#   'pickup_longitude': -73.984531,\n",
    "#   'distance_from_selected': 0.002067074502774709},\n",
    "#  {'trip_distance': 1.72,\n",
    "#   'pickup_latitude': 40.762107,\n",
    "#   'pickup_longitude': -73.98479,\n",
    "#   'distance_from_selected': 0.0020684557041472677}]"
   ]
  },
  {
   "cell_type": "markdown",
   "metadata": {},
   "source": [
    "Looking at the `distance_from_selected` it appears that our our trips are still fairly close to our selected trip.  Notice that most of the data is within a distance of .002 away, so going to the top 7 nearest neighbors didn't seem to give us neighbors too far from each other, which is a good sign.\n",
    "\n",
    "Still, it's hard to know what distance in latitude and longitude really look like, so let's map the data. "
   ]
  },
  {
   "cell_type": "code",
   "execution_count": 53,
   "metadata": {},
   "outputs": [
    {
     "data": {
      "text/html": [
       "<div style=\"width:100%;\"><div style=\"position:relative;width:100%;height:0;padding-bottom:60%;\"><iframe src=\"data:text/html;charset=utf-8;base64,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\" style=\"position:absolute;width:100%;height:100%;left:0;top:0;border:none !important;\" allowfullscreen webkitallowfullscreen mozallowfullscreen></iframe></div></div>"
      ],
      "text/plain": [
       "<folium.folium.Map at 0x7ff878123c18>"
      ]
     },
     "execution_count": 53,
     "metadata": {},
     "output_type": "execute_result"
    }
   ],
   "source": [
    "midtown_location = location(midtown_trip) # [40.76171, -73.98276]\n",
    "midtown_map = map_from(midtown_location, 16)\n",
    "closest_markers = markers_from_trips(seven_closest)\n",
    "\n",
    "add_markers(closest_markers, midtown_map)"
   ]
  },
  {
   "cell_type": "markdown",
   "metadata": {},
   "source": [
    "Ok.  These locations stay fairly close to our estimated location of 51st street and 7th Avenue.  So they could be a good estimate of a trip distance."
   ]
  },
  {
   "cell_type": "code",
   "execution_count": 55,
   "metadata": {},
   "outputs": [
    {
     "ename": "KeyError",
     "evalue": "'trip_distance'",
     "output_type": "error",
     "traceback": [
      "\u001b[0;31m\u001b[0m",
      "\u001b[0;31mKeyError\u001b[0mTraceback (most recent call last)",
      "\u001b[0;32m<ipython-input-55-fc905248b5ce>\u001b[0m in \u001b[0;36m<module>\u001b[0;34m\u001b[0m\n\u001b[0;32m----> 1\u001b[0;31m \u001b[0mmean_distance\u001b[0m\u001b[0;34m(\u001b[0m\u001b[0mseven_closest\u001b[0m\u001b[0;34m)\u001b[0m \u001b[0;31m# 2.009\u001b[0m\u001b[0;34m\u001b[0m\u001b[0;34m\u001b[0m\u001b[0m\n\u001b[0m",
      "\u001b[0;32m<ipython-input-45-4a5f07584f05>\u001b[0m in \u001b[0;36mmean_distance\u001b[0;34m(neighbors)\u001b[0m\n\u001b[1;32m      1\u001b[0m \u001b[0;32mimport\u001b[0m \u001b[0mstatistics\u001b[0m\u001b[0;34m\u001b[0m\u001b[0;34m\u001b[0m\u001b[0m\n\u001b[1;32m      2\u001b[0m \u001b[0;32mdef\u001b[0m \u001b[0mmean_distance\u001b[0m\u001b[0;34m(\u001b[0m\u001b[0mneighbors\u001b[0m\u001b[0;34m)\u001b[0m\u001b[0;34m:\u001b[0m\u001b[0;34m\u001b[0m\u001b[0;34m\u001b[0m\u001b[0m\n\u001b[0;32m----> 3\u001b[0;31m     \u001b[0mnearest_distances\u001b[0m \u001b[0;34m=\u001b[0m \u001b[0mlist\u001b[0m\u001b[0;34m(\u001b[0m\u001b[0mmap\u001b[0m\u001b[0;34m(\u001b[0m\u001b[0;32mlambda\u001b[0m \u001b[0mneighbor\u001b[0m\u001b[0;34m:\u001b[0m \u001b[0mneighbor\u001b[0m\u001b[0;34m[\u001b[0m\u001b[0;34m'trip_distance'\u001b[0m\u001b[0;34m]\u001b[0m\u001b[0;34m,\u001b[0m \u001b[0mneighbors\u001b[0m\u001b[0;34m)\u001b[0m\u001b[0;34m)\u001b[0m\u001b[0;34m\u001b[0m\u001b[0;34m\u001b[0m\u001b[0m\n\u001b[0m\u001b[1;32m      4\u001b[0m     \u001b[0;32mreturn\u001b[0m \u001b[0mround\u001b[0m\u001b[0;34m(\u001b[0m\u001b[0mstatistics\u001b[0m\u001b[0;34m.\u001b[0m\u001b[0mmean\u001b[0m\u001b[0;34m(\u001b[0m\u001b[0mnearest_distances\u001b[0m\u001b[0;34m)\u001b[0m\u001b[0;34m,\u001b[0m \u001b[0;36m3\u001b[0m\u001b[0;34m)\u001b[0m\u001b[0;34m\u001b[0m\u001b[0;34m\u001b[0m\u001b[0m\n\u001b[1;32m      5\u001b[0m \u001b[0;34m\u001b[0m\u001b[0m\n",
      "\u001b[0;32m<ipython-input-45-4a5f07584f05>\u001b[0m in \u001b[0;36m<lambda>\u001b[0;34m(neighbor)\u001b[0m\n\u001b[1;32m      1\u001b[0m \u001b[0;32mimport\u001b[0m \u001b[0mstatistics\u001b[0m\u001b[0;34m\u001b[0m\u001b[0;34m\u001b[0m\u001b[0m\n\u001b[1;32m      2\u001b[0m \u001b[0;32mdef\u001b[0m \u001b[0mmean_distance\u001b[0m\u001b[0;34m(\u001b[0m\u001b[0mneighbors\u001b[0m\u001b[0;34m)\u001b[0m\u001b[0;34m:\u001b[0m\u001b[0;34m\u001b[0m\u001b[0;34m\u001b[0m\u001b[0m\n\u001b[0;32m----> 3\u001b[0;31m     \u001b[0mnearest_distances\u001b[0m \u001b[0;34m=\u001b[0m \u001b[0mlist\u001b[0m\u001b[0;34m(\u001b[0m\u001b[0mmap\u001b[0m\u001b[0;34m(\u001b[0m\u001b[0;32mlambda\u001b[0m \u001b[0mneighbor\u001b[0m\u001b[0;34m:\u001b[0m \u001b[0mneighbor\u001b[0m\u001b[0;34m[\u001b[0m\u001b[0;34m'trip_distance'\u001b[0m\u001b[0;34m]\u001b[0m\u001b[0;34m,\u001b[0m \u001b[0mneighbors\u001b[0m\u001b[0;34m)\u001b[0m\u001b[0;34m)\u001b[0m\u001b[0;34m\u001b[0m\u001b[0;34m\u001b[0m\u001b[0m\n\u001b[0m\u001b[1;32m      4\u001b[0m     \u001b[0;32mreturn\u001b[0m \u001b[0mround\u001b[0m\u001b[0;34m(\u001b[0m\u001b[0mstatistics\u001b[0m\u001b[0;34m.\u001b[0m\u001b[0mmean\u001b[0m\u001b[0;34m(\u001b[0m\u001b[0mnearest_distances\u001b[0m\u001b[0;34m)\u001b[0m\u001b[0;34m,\u001b[0m \u001b[0;36m3\u001b[0m\u001b[0;34m)\u001b[0m\u001b[0;34m\u001b[0m\u001b[0;34m\u001b[0m\u001b[0m\n\u001b[1;32m      5\u001b[0m \u001b[0;34m\u001b[0m\u001b[0m\n",
      "\u001b[0;31mKeyError\u001b[0m: 'trip_distance'"
     ]
    }
   ],
   "source": [
    "mean_distance(seven_closest) # 2.009"
   ]
  },
  {
   "cell_type": "markdown",
   "metadata": {},
   "source": [
    "Ok, now let's try a different location"
   ]
  },
  {
   "cell_type": "code",
   "execution_count": 58,
   "metadata": {},
   "outputs": [],
   "source": [
    "charging_bull_closest = nearest_neighbors({'pickup_latitude': 40.7049, 'pickup_longitude': -74.0137}, cleaned_trips, number = 12)"
   ]
  },
  {
   "cell_type": "code",
   "execution_count": 59,
   "metadata": {
    "scrolled": true
   },
   "outputs": [
    {
     "ename": "KeyError",
     "evalue": "'trip_distance'",
     "output_type": "error",
     "traceback": [
      "\u001b[0;31m\u001b[0m",
      "\u001b[0;31mKeyError\u001b[0mTraceback (most recent call last)",
      "\u001b[0;32m<ipython-input-59-4b756d1fdff9>\u001b[0m in \u001b[0;36m<module>\u001b[0;34m\u001b[0m\n\u001b[0;32m----> 1\u001b[0;31m \u001b[0mmean_distance\u001b[0m\u001b[0;34m(\u001b[0m\u001b[0mcharging_bull_closest\u001b[0m\u001b[0;34m)\u001b[0m \u001b[0;31m# 3.145\u001b[0m\u001b[0;34m\u001b[0m\u001b[0;34m\u001b[0m\u001b[0m\n\u001b[0m",
      "\u001b[0;32m<ipython-input-45-4a5f07584f05>\u001b[0m in \u001b[0;36mmean_distance\u001b[0;34m(neighbors)\u001b[0m\n\u001b[1;32m      1\u001b[0m \u001b[0;32mimport\u001b[0m \u001b[0mstatistics\u001b[0m\u001b[0;34m\u001b[0m\u001b[0;34m\u001b[0m\u001b[0m\n\u001b[1;32m      2\u001b[0m \u001b[0;32mdef\u001b[0m \u001b[0mmean_distance\u001b[0m\u001b[0;34m(\u001b[0m\u001b[0mneighbors\u001b[0m\u001b[0;34m)\u001b[0m\u001b[0;34m:\u001b[0m\u001b[0;34m\u001b[0m\u001b[0;34m\u001b[0m\u001b[0m\n\u001b[0;32m----> 3\u001b[0;31m     \u001b[0mnearest_distances\u001b[0m \u001b[0;34m=\u001b[0m \u001b[0mlist\u001b[0m\u001b[0;34m(\u001b[0m\u001b[0mmap\u001b[0m\u001b[0;34m(\u001b[0m\u001b[0;32mlambda\u001b[0m \u001b[0mneighbor\u001b[0m\u001b[0;34m:\u001b[0m \u001b[0mneighbor\u001b[0m\u001b[0;34m[\u001b[0m\u001b[0;34m'trip_distance'\u001b[0m\u001b[0;34m]\u001b[0m\u001b[0;34m,\u001b[0m \u001b[0mneighbors\u001b[0m\u001b[0;34m)\u001b[0m\u001b[0;34m)\u001b[0m\u001b[0;34m\u001b[0m\u001b[0;34m\u001b[0m\u001b[0m\n\u001b[0m\u001b[1;32m      4\u001b[0m     \u001b[0;32mreturn\u001b[0m \u001b[0mround\u001b[0m\u001b[0;34m(\u001b[0m\u001b[0mstatistics\u001b[0m\u001b[0;34m.\u001b[0m\u001b[0mmean\u001b[0m\u001b[0;34m(\u001b[0m\u001b[0mnearest_distances\u001b[0m\u001b[0;34m)\u001b[0m\u001b[0;34m,\u001b[0m \u001b[0;36m3\u001b[0m\u001b[0;34m)\u001b[0m\u001b[0;34m\u001b[0m\u001b[0;34m\u001b[0m\u001b[0m\n\u001b[1;32m      5\u001b[0m \u001b[0;34m\u001b[0m\u001b[0m\n",
      "\u001b[0;32m<ipython-input-45-4a5f07584f05>\u001b[0m in \u001b[0;36m<lambda>\u001b[0;34m(neighbor)\u001b[0m\n\u001b[1;32m      1\u001b[0m \u001b[0;32mimport\u001b[0m \u001b[0mstatistics\u001b[0m\u001b[0;34m\u001b[0m\u001b[0;34m\u001b[0m\u001b[0m\n\u001b[1;32m      2\u001b[0m \u001b[0;32mdef\u001b[0m \u001b[0mmean_distance\u001b[0m\u001b[0;34m(\u001b[0m\u001b[0mneighbors\u001b[0m\u001b[0;34m)\u001b[0m\u001b[0;34m:\u001b[0m\u001b[0;34m\u001b[0m\u001b[0;34m\u001b[0m\u001b[0m\n\u001b[0;32m----> 3\u001b[0;31m     \u001b[0mnearest_distances\u001b[0m \u001b[0;34m=\u001b[0m \u001b[0mlist\u001b[0m\u001b[0;34m(\u001b[0m\u001b[0mmap\u001b[0m\u001b[0;34m(\u001b[0m\u001b[0;32mlambda\u001b[0m \u001b[0mneighbor\u001b[0m\u001b[0;34m:\u001b[0m \u001b[0mneighbor\u001b[0m\u001b[0;34m[\u001b[0m\u001b[0;34m'trip_distance'\u001b[0m\u001b[0;34m]\u001b[0m\u001b[0;34m,\u001b[0m \u001b[0mneighbors\u001b[0m\u001b[0;34m)\u001b[0m\u001b[0;34m)\u001b[0m\u001b[0;34m\u001b[0m\u001b[0;34m\u001b[0m\u001b[0m\n\u001b[0m\u001b[1;32m      4\u001b[0m     \u001b[0;32mreturn\u001b[0m \u001b[0mround\u001b[0m\u001b[0;34m(\u001b[0m\u001b[0mstatistics\u001b[0m\u001b[0;34m.\u001b[0m\u001b[0mmean\u001b[0m\u001b[0;34m(\u001b[0m\u001b[0mnearest_distances\u001b[0m\u001b[0;34m)\u001b[0m\u001b[0;34m,\u001b[0m \u001b[0;36m3\u001b[0m\u001b[0;34m)\u001b[0m\u001b[0;34m\u001b[0m\u001b[0;34m\u001b[0m\u001b[0m\n\u001b[1;32m      5\u001b[0m \u001b[0;34m\u001b[0m\u001b[0m\n",
      "\u001b[0;31mKeyError\u001b[0m: 'trip_distance'"
     ]
    }
   ],
   "source": [
    "mean_distance(charging_bull_closest) # 3.145"
   ]
  },
  {
   "cell_type": "markdown",
   "metadata": {},
   "source": [
    "Ok, so there appears to be a significant difference between choosing a location near Times Square versus choosing a location at Wall Street."
   ]
  },
  {
   "cell_type": "markdown",
   "metadata": {},
   "source": [
    "### Summary"
   ]
  },
  {
   "cell_type": "markdown",
   "metadata": {},
   "source": [
    "In this lab, we used the nearest neighbors function to predict the length of a taxi ride.  To do so, we selected a location, then found a number of taxi rides closest to that location, and finally took the average trip lengths of the nearest taxi rides to find an estimate of the new ride's trip length.  You can see that even with just a little bit of math and programming we can begin to make meaningful predictions with data."
   ]
  }
 ],
 "metadata": {
  "kernelspec": {
   "display_name": "Python 3",
   "language": "python",
   "name": "python3"
  },
  "language_info": {
   "codemirror_mode": {
    "name": "ipython",
    "version": 3
   },
   "file_extension": ".py",
   "mimetype": "text/x-python",
   "name": "python",
   "nbconvert_exporter": "python",
   "pygments_lexer": "ipython3",
   "version": "3.6.9"
  }
 },
 "nbformat": 4,
 "nbformat_minor": 2
}
